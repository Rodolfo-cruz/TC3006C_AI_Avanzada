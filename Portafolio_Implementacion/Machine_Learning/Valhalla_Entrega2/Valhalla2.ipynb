{
 "cells": [
  {
   "cell_type": "markdown",
   "id": "d6e88403",
   "metadata": {},
   "source": [
    "# Valhalla challenge con Scikit-Learn"
   ]
  },
  {
   "cell_type": "markdown",
   "id": "ca2a3ccf",
   "metadata": {},
   "source": [
    "**Autor:** Rodolfo Jesús Cruz Rebollar\n",
    "\n",
    "**Matrícula:** A01368326\n",
    "\n",
    "**Grupo:** 101"
   ]
  },
  {
   "cell_type": "code",
   "execution_count": 1,
   "id": "b3d9ee30",
   "metadata": {},
   "outputs": [],
   "source": [
    "# Importar librería numpy para realizar operaciones matemáticas con arreglos\n",
    "\n",
    "import numpy as np\n",
    "\n",
    "# Importar librería pandas para manipulación y análsis de datos\n",
    "\n",
    "import pandas as pd\n",
    "\n",
    "# Importar matplotlib para realizar gráficos de los datos\n",
    "\n",
    "import matplotlib.pyplot as plt\n",
    "\n",
    "# Importar la función SGDRegressor del módulo linear_model de la librería Scikit-Learn\n",
    "# para implementar regresión lineal con gradiente descendente estocástico\n",
    "\n",
    "from sklearn.linear_model import SGDRegressor\n",
    "\n",
    "# Además importar el método train_test_split para dividir el conjunto total de datos en\n",
    "# subconjuntos para entrenamiento del modelo y prueba del mismo\n",
    "\n",
    "from sklearn.model_selection import train_test_split"
   ]
  },
  {
   "cell_type": "code",
   "execution_count": 2,
   "id": "d1253772",
   "metadata": {},
   "outputs": [
    {
     "data": {
      "text/html": [
       "<div>\n",
       "<style scoped>\n",
       "    .dataframe tbody tr th:only-of-type {\n",
       "        vertical-align: middle;\n",
       "    }\n",
       "\n",
       "    .dataframe tbody tr th {\n",
       "        vertical-align: top;\n",
       "    }\n",
       "\n",
       "    .dataframe thead th {\n",
       "        text-align: right;\n",
       "    }\n",
       "</style>\n",
       "<table border=\"1\" class=\"dataframe\">\n",
       "  <thead>\n",
       "    <tr style=\"text-align: right;\">\n",
       "      <th></th>\n",
       "      <th>Celsius</th>\n",
       "      <th>Valks</th>\n",
       "    </tr>\n",
       "  </thead>\n",
       "  <tbody>\n",
       "    <tr>\n",
       "      <th>0</th>\n",
       "      <td>61.4720</td>\n",
       "      <td>-139.740</td>\n",
       "    </tr>\n",
       "    <tr>\n",
       "      <th>1</th>\n",
       "      <td>70.5790</td>\n",
       "      <td>-156.600</td>\n",
       "    </tr>\n",
       "    <tr>\n",
       "      <th>2</th>\n",
       "      <td>-7.3013</td>\n",
       "      <td>73.269</td>\n",
       "    </tr>\n",
       "    <tr>\n",
       "      <th>3</th>\n",
       "      <td>71.3380</td>\n",
       "      <td>-165.420</td>\n",
       "    </tr>\n",
       "    <tr>\n",
       "      <th>4</th>\n",
       "      <td>43.2360</td>\n",
       "      <td>-75.835</td>\n",
       "    </tr>\n",
       "  </tbody>\n",
       "</table>\n",
       "</div>"
      ],
      "text/plain": [
       "   Celsius    Valks\n",
       "0  61.4720 -139.740\n",
       "1  70.5790 -156.600\n",
       "2  -7.3013   73.269\n",
       "3  71.3380 -165.420\n",
       "4  43.2360  -75.835"
      ]
     },
     "execution_count": 2,
     "metadata": {},
     "output_type": "execute_result"
    }
   ],
   "source": [
    "# Importar los datos de temperatura en celsius y Valks en un dataframe\n",
    "\n",
    "temperatura = pd.read_csv(\"Valhalla23.csv\")\n",
    "\n",
    "# Verificar que los datos se hayan importado correctamente\n",
    "# (imprimir primeros registros del dataframe)\n",
    "\n",
    "temperatura.head()"
   ]
  },
  {
   "cell_type": "markdown",
   "id": "f22b7d52",
   "metadata": {},
   "source": [
    "## Creación de subsets para entrenamiento y prueba"
   ]
  },
  {
   "cell_type": "markdown",
   "id": "b6db38a1",
   "metadata": {},
   "source": [
    "En cuanto a la creación de los subsets para el entrenamiento y prueba del modelo, se utilizará la función train_test_split() del módulo model_selection perteneciente a su vez a la librería de Scikit-Learn, por lo que éste método tiene la principal función de dividir el conjunto completo de datos en 4 subconjuntos de datos que devuelve como salida, los cuales son: valores de las variables predictoras correspondientes al conjunto de entrenamiento, valores de la variable objetivo que se desea predecir correspondientes de igual manera al conjunto de entrenamiento, valores de las variables predictoras correspondientes al conjunto de prueba y valores de la variable objetivo correspondientes al conjunto de prueba también, por lo que en resumen, en cuanto a nuestro caso particular, tendremos los siguientes subsets de datos como salida de la función train_test_split():\n",
    "\n",
    "1. Datos en celsius del conjunto de entrenamiento (datos en celsius usados para entrenar el modelo)\n",
    "\n",
    "2. Datos en Valks de conjunto de entrenamiento (datos en valks usados para entrenar el modelo)\n",
    "\n",
    "3. Datos en celsius del conjunto de prueba (datos en celsius usados para poner a prueba el modelo)\n",
    "\n",
    "4. Datos en Valks del conjunto de prueba (datos en Valks usados para poner a prueba el modelo)\n",
    "\n",
    "Por lo cual, después de haber dividido el dataset principal en dichos subconjuntos, se procederá a agrupar los 4 subconjuntos de datos en 2 dataframes, el primero de ellos tendrá los valores en celsius y valks que se usarán para entrenamiento, mientras que el segundo dataframe, tendrá los datos en celsius y Valks empleados para probar el modelo.\n",
    "\n",
    "**Nota:** la función train_test_split() primero reorganiza los datos originales de manera aleatoria para luego calcular la cantidad de datos que serán para entrenar y para prueba, éste cálculo lo realiza calculando los porcentajes especificados para entrenamiento y prueba de la cantidad de datos originales, por lo que una vez habiendo calculado dichos porcentajes, procede a tomar aleatoriamente dicha cantidad de datos tanto para el entrenamiento como para la prueba del modelo y así mismo, tras tomar la cantidad calculada de datos para entrenar y probar el modelo, divide los datos para entrenar y para probar en 2 subconjuntos, el primero de ellos que tendrá los datos de las variables predictoras, mientras que el segundo tendrá aquellos otros datos de la variable de respuesta que se desea predecir."
   ]
  },
  {
   "cell_type": "code",
   "execution_count": 3,
   "id": "f3c31efc",
   "metadata": {},
   "outputs": [],
   "source": [
    "# Invocar al método train_test_split() para dividir el conjunto original de datos\n",
    "# en los subconjuntos antes descritos\n",
    "\n",
    "# La función train_test_split() recibe como argumentos los datos de la variable predictora (Celsius),\n",
    "# datos de la variable respuesta (Valks), 30% de los datos originales para prueba y 70%\n",
    "# de los datos originales para entrenamiento\n",
    "\n",
    "# c_train: valores de celsius para entrenar, \n",
    "# c_test: valores de celsius para prueba, \n",
    "# v_train: valores de Valks para entrenar, \n",
    "# v_test: valores de Valks para prueba\n",
    "\n",
    "c_train, c_test, v_train, v_test = train_test_split(temperatura[\"Celsius\"], temperatura[\"Valks\"], \n",
    "                                                   test_size = 0.3, train_size = 0.7)"
   ]
  },
  {
   "cell_type": "markdown",
   "id": "b77a5c57",
   "metadata": {},
   "source": [
    "### Subset para entrenamiento"
   ]
  },
  {
   "cell_type": "code",
   "execution_count": 4,
   "id": "27e09b9b",
   "metadata": {},
   "outputs": [
    {
     "data": {
      "text/html": [
       "<div>\n",
       "<style scoped>\n",
       "    .dataframe tbody tr th:only-of-type {\n",
       "        vertical-align: middle;\n",
       "    }\n",
       "\n",
       "    .dataframe tbody tr th {\n",
       "        vertical-align: top;\n",
       "    }\n",
       "\n",
       "    .dataframe thead th {\n",
       "        text-align: right;\n",
       "    }\n",
       "</style>\n",
       "<table border=\"1\" class=\"dataframe\">\n",
       "  <thead>\n",
       "    <tr style=\"text-align: right;\">\n",
       "      <th></th>\n",
       "      <th>Celsius</th>\n",
       "      <th>Valks</th>\n",
       "    </tr>\n",
       "  </thead>\n",
       "  <tbody>\n",
       "    <tr>\n",
       "      <th>15</th>\n",
       "      <td>-5.8114</td>\n",
       "      <td>66.370</td>\n",
       "    </tr>\n",
       "    <tr>\n",
       "      <th>0</th>\n",
       "      <td>61.4720</td>\n",
       "      <td>-139.740</td>\n",
       "    </tr>\n",
       "    <tr>\n",
       "      <th>13</th>\n",
       "      <td>28.5380</td>\n",
       "      <td>-30.998</td>\n",
       "    </tr>\n",
       "    <tr>\n",
       "      <th>50</th>\n",
       "      <td>7.6025</td>\n",
       "      <td>25.080</td>\n",
       "    </tr>\n",
       "    <tr>\n",
       "      <th>16</th>\n",
       "      <td>22.1760</td>\n",
       "      <td>-12.882</td>\n",
       "    </tr>\n",
       "  </tbody>\n",
       "</table>\n",
       "</div>"
      ],
      "text/plain": [
       "    Celsius    Valks\n",
       "15  -5.8114   66.370\n",
       "0   61.4720 -139.740\n",
       "13  28.5380  -30.998\n",
       "50   7.6025   25.080\n",
       "16  22.1760  -12.882"
      ]
     },
     "execution_count": 4,
     "metadata": {},
     "output_type": "execute_result"
    }
   ],
   "source": [
    "# Agrupar los datos en celsius para entrenamiento y los datos de valks para entrenamiento\n",
    "# en un solo dataframe\n",
    "\n",
    "data_train = pd.DataFrame({\"Celsius\": c_train, \"Valks\": v_train})\n",
    "\n",
    "# Mostrar los primeros registros del subset de entrenamiento\n",
    "\n",
    "data_train.head()"
   ]
  },
  {
   "cell_type": "markdown",
   "id": "27091126",
   "metadata": {},
   "source": [
    "### Subset para prueba"
   ]
  },
  {
   "cell_type": "code",
   "execution_count": 5,
   "id": "b59e04fc",
   "metadata": {},
   "outputs": [
    {
     "data": {
      "text/html": [
       "<div>\n",
       "<style scoped>\n",
       "    .dataframe tbody tr th:only-of-type {\n",
       "        vertical-align: middle;\n",
       "    }\n",
       "\n",
       "    .dataframe tbody tr th {\n",
       "        vertical-align: top;\n",
       "    }\n",
       "\n",
       "    .dataframe thead th {\n",
       "        text-align: right;\n",
       "    }\n",
       "</style>\n",
       "<table border=\"1\" class=\"dataframe\">\n",
       "  <thead>\n",
       "    <tr style=\"text-align: right;\">\n",
       "      <th></th>\n",
       "      <th>Celsius</th>\n",
       "      <th>Valks</th>\n",
       "    </tr>\n",
       "  </thead>\n",
       "  <tbody>\n",
       "    <tr>\n",
       "      <th>35</th>\n",
       "      <td>62.3460</td>\n",
       "      <td>-122.730</td>\n",
       "    </tr>\n",
       "    <tr>\n",
       "      <th>29</th>\n",
       "      <td>-2.8813</td>\n",
       "      <td>58.486</td>\n",
       "    </tr>\n",
       "    <tr>\n",
       "      <th>70</th>\n",
       "      <td>64.0720</td>\n",
       "      <td>-127.100</td>\n",
       "    </tr>\n",
       "    <tr>\n",
       "      <th>92</th>\n",
       "      <td>33.0800</td>\n",
       "      <td>-56.911</td>\n",
       "    </tr>\n",
       "    <tr>\n",
       "      <th>79</th>\n",
       "      <td>27.3290</td>\n",
       "      <td>-27.032</td>\n",
       "    </tr>\n",
       "  </tbody>\n",
       "</table>\n",
       "</div>"
      ],
      "text/plain": [
       "    Celsius    Valks\n",
       "35  62.3460 -122.730\n",
       "29  -2.8813   58.486\n",
       "70  64.0720 -127.100\n",
       "92  33.0800  -56.911\n",
       "79  27.3290  -27.032"
      ]
     },
     "execution_count": 5,
     "metadata": {},
     "output_type": "execute_result"
    }
   ],
   "source": [
    "# Agrupar los datos en celsius y Valks para prueba en un solo dataframe\n",
    "\n",
    "# Pasar como argumento al constructor de dataframe un diccionario que contenga el nombre de cada columna y los datos\n",
    "# asociados a dicha columna\n",
    "\n",
    "data_test = pd.DataFrame({\"Celsius\": c_test, \"Valks\": v_test})\n",
    "\n",
    "# Mostrar primeros registros del subset para prueba\n",
    "\n",
    "data_test.head()"
   ]
  },
  {
   "cell_type": "markdown",
   "id": "339f387d",
   "metadata": {},
   "source": [
    "## Creación y entrenamiento del modelo"
   ]
  },
  {
   "cell_type": "markdown",
   "id": "54b8eb67",
   "metadata": {},
   "source": [
    "### Configuración del modelo y justificación de sus parámetros"
   ]
  },
  {
   "cell_type": "markdown",
   "id": "8d0ac839",
   "metadata": {},
   "source": [
    "En primera instancia, para configurar y entrenar el modelo de regresión lineal con gradiente estocástico, se utlizará el parámetro loss = \"squared_error\", mismo que indica que el modelo operará en base a la función de pérdida del error cuadrático, en otras palabras, misma que consiste básicamente en calcular la sumatoria de las diferencias de cuadrados entre los datos reales y las predicciones hechas por el modelo, lo cual se representa por medio de la siguiente expresión:\n",
    "\n",
    "$error = \\sum_{i = 1}^{n}{(y - \\hat{y})^{2}}$ donde $\\hat{y}$ representa las predicciones hechas por el modelo y $y$ a su vez representa los datos reales, por lo cual la función anterior será la función de costo J que se empleará para configurar el modelo de regresión lineal. \n",
    "\n",
    "Además de lo anterior, el parámetro penalty del modelo será \"l2\", mismo que se refiere al hecho de aplicar la regularización estándar a la función J con el principal objetivo de que el modelo logre aproximar los parámetros adecuados del modelo asegurando que éstos se encuentren lo más próximos a 0 posible, por lo cual, el objetivo de dicha regularización sobre J consiste en aplicar la penalización correspondiente a J principalmente en caso de que durante la ejecución del algoritmo, se estén obteniendo coeficientes con un valor bastante elevado y al aplicar dicha penalización, esos valores logren reducirse al mínimo posible, esto garantizará que el modelo entrenado, estime el modelo que mejor se ajuste a los datos en cuestión, asegurando que se obtenga el modelo que tenga el mayor grado de eficiencia posible y a su vez con los menores valores posibles para sus parámetros ($\\theta_{0}$ y $\\theta_{1}$). Por otro lado, también se agregó el parámetro alpha a la configuración del modelo con un valor de 0.05, el cual básicamente tiene la función de controlar la magnitud de la regularización aplicada a la función J al multiplicar la regularización por ese coeficiente (0.05), motivo por el cual, entre mayor sea el valor de dicho alpha, la regularización aplicada sobre J también será mayor y viceversa, por lo cual, en caso de que los parámetros comiencen a tener valores grandes, el algoritmo incrementará el valor del parámetro alpha para aplicar una regularización mayor sobre J y así reducir lo mayor posible el valor de los parámetros de la regresión, además, también se incluye el parámetro fit_intercept = True para configurar el algoritmo, mismo que tiene el propósito de indicar básicamente si los datos están centrados en su media, por lo que al asignar un valor True a dicho parámetro, se está indicando que los datos empleados para entrenar el modelo no se encuentran centrados, lo cual implicará que el algoritmo además de estimar el valor adecuado para la pendiente del modelo $\\theta_{1}$, también deberá estimar el valor adecuado para el intercepto de dicho modelo ($\\theta_{0}$), ya que los datos al no estar centrados, dicho intercepto deberá cumplir con la condición de ser distinto de 0 ($\\theta_{0} \\neq 0$). Adicionalmente, otro parámetro importante en la configuración y además para el entrenamiento del modelo es el parámetro max_iter que tiene asignado un valor de 410000, lo cual indica que el entrenamiento del algoritmo finalizará como máximo cuando se alcancen 410000 épocas de entrenamiento, donde las épocas se definen como las veces que el algoritmo recorre todo el subconjunto de datos de entrenamiento para actualizar los parámetros del modelo con tal de adecuarlos de una mejor manera a los patrones o tendencias de los datos utilizados, por lo que en caso de que el algoritmo no logre converger antes de 410000 iteraciones o épocas, el valor de 410000 en el parámetro max_iter servirá como un paro de emergencia para que el algoritmo no se quede iterando infinitamente y con ello, garantizar la obtención de alguna respuesta de parte del algoritmo dentro de la cantidad establecida de iteraciones para su entrenamiento. Por otra parte, el parámetro tol = 0.01 está asociado con el criterio de paro o de convergencia del algoritmo, en el sentido de que la convergencia del algoritmo ocurrirá cuando el valor de la función de costo J ya no sea inferior al valor de costo mínimo logrado hasta el momento por el algoritmo menos dicho nivel de tolerancia (tol), además de lo anterior, también se incluyó el parámetro learning_rate = \"constant\", mismo que establece que la tasa de aprendizaje del algoritmo sea constante a lo largo del entrenamiento del modelo, en base al hecho de que dicha tasa de aprendizaje denotada como $\\alpha$, se mantendrá constante durante toda la etapa del entrenamiento del modelo con el objetivo principal de estudiar los efectos que tienen otros parámetros diferentes del algoritmo sobre el rendimiento del mismo que no sea la tasa de aprendizaje, además en cada iteración, el algoritmo calculará el valor para el costo J, por lo que en caso de que el algoritmo ya no logre disminuir en 0.01 unidades la pérdida J calculada durante un periodo mínimo de 10 iteraciones, se producirá lo que se conoce como una finalización temprana del entrenamiento del algoritmo, lo cual a su vez se encuentra directamente relacionado con el parámetro booleano early_stopping (se mencionará más adelante) cuyo valor es igual a True. Aparte de todos los parámetros descritos con anterioridad, otro parámetro importante para el entrenamiento del modelo es eta0 que prácticamente hace referencia al valor asignado inicialmente a la tasa de aprendizaje del algoritmo que a su vez significa la rapidez a la que éste mismo aprende los patrones implícitos entre los datos, por lo cual un valor de eta0 grande puede provocar que el algoritmo diverga y como consecuencia se obtengan predicciones muy alejadas de los datos reales, mientras que si dicho valor de eta0 es muy pequeño, se garantiza que el algoritmo eventualmente converga tras una cierta cantidad de iteraciones, por lo general muy alta ya que al aprender a un ritmo muy lento, el algoritmo ocupa muchas más iteraciones para lograr entrenarse adecuadamente. Adicionalmente, el parámetro early_stopping = True se refiere a que se detenga el entrenamiento del modelo en caso de que la puntuación obtenida al momento de que el algoritmo valida el modelo entrenado ya no mejore, por lo que en dicho caso, el algoritmo automáticamente procederá a generar un subconjunto de datos para validación del modelo a partir de los datos de entrenamiento del mismo, por lo cual, el entrenamiento del modelo se detendrá cuando el puntaje de la validación del mismo no mejore al menos por la cantidad de tolerancia establecida (tol) durante la cantidad de iteraciones establecida en el parámetro n_iter_no_change, por lo cual, finalmente, el parámetro n_iter_no_change hace alusión a la cantidad de iteraciones a esperar para detener el entrenamiento del modelo en caso de que durante dicho número de iteraciones, la puntuación de validación del modelo mencionada anteriormente ya no sea menor a la mejor pérdida J obtenida durante todo el proceso de entrenamiento del modelo, por lo que específicamente para el modelo a implementar, el entrenamiento finalizará en automático si durante 10 iteraciones, la puntuación de validación ya no resulte ser inferior a la pérdida óptima J hasta ese momento. \n",
    "\n",
    "**Nota 1:** no confundir alpha (controlador de la magnitud de la regularización) con $\\alpha$ o eta0 (valor inicial de la tasa de aprendizaje).\n",
    "\n",
    "**Nota 2:** el valor de 0.05 para el parámetro alpha se escogió debido a que el algoritmo no necesita un alto nivel de regularización para converger, esto porque al usar un valor para la tasa de aprendizaje $\\alpha$ muy pequeño, prácticamente se consigue que se cumple el hecho de que la J mínima conseguida menos una cierta tolerancia (tol) no pueda continuar disminuyendo, por lo que se logra la convergencia del algoritmo, sin embargo se coloca el coeficiente alpha para regularización para que en caso de obtener valores de $\\theta$ muy grandes sobretodo en las primeras iteraciones del algoritmo, se aplique la penalización a la función J y así lograr disminuir la magnitud de los coeficientes resultantes para no tener al final resultados que sean excesivamente grandes a tal punto que Python ya no pueda manejarlos y arroje como resultado valores inf o nan.\n",
    "\n",
    "**Nota 3:** Se asignó el valor True al parámetro fit_intercept para que el algoritmo también estime el valor adecuado para el intercepto $\\theta_{0}$ aparte de determinar el mejor valor para la pendiente $\\theta_{1}$, dado que los datos con los que vamos a entrenar el modelo, no se encuentran centrados en su media.\n",
    "\n",
    "**Nota 4:** Se eligió entrenar el modelo específicamente con 410000 iteraciones porque al ser una cantidad mayormente considerable de iteraciones, eleva las posibilidades de que el algoritmo finalmente converga, al permitir que los valores de costo J sean cada vez más bajos al punto de que eventualmente, se alcance el punto de convergencia del algoritmo, ya que se habrán permitido una mayor cantidad de actualizaciones para los parámetros $\\theta$ hasta finalmente terminar de ajustarlos de forma adecuada a los datos usados para entrenar el modelo.\n",
    "\n",
    "**Nota 5:** Se eligió una tolerancia (tol) de 0.01 porque al ser un valor mayormente bajo, es adecuado para definir el mínimo cambio que esperamos que ocurra en los valores de pérdida J para continuar con el entrenamiento del modelo, por lo que si dicho cambio esperado es inferior a 0.01, prácticamente se podrá concluir que el cambio sucedido es despreciable al ser un valor muy cercano a 0, por lo cual, podremos considerar que básicamente ya no hay cambio significativo en los valores de J, por lo que ya no tendrá sentido continuar entrenando el modelo y por consiguiente dicho entrenamiento habrá finalizado.\n",
    "\n",
    "**Nota 6:** Se escogió un tipo de tasa de aprendizaje constante porque al tener un $\\alpha$ constante pero considerando el resto de los parámetros para la configuración del algoritmo, es posible explorar otras alternativas de modelos para los datos usados, ya que al variar algunos otros parámetros del algoritmo, se puede explorar qué tan bien se ajustan otros modelos a los datos que tengan una diferente configuración y ver cómo impactan configuraciones diferentes en la calidad de las predicciones derivadas de los distintos modelos entrenados, lo cual amplia prácticamente el espacio de búsqueda de todos los posibles modelos que se pueden ajustar a los datos para finalmente también incrementar la probabilidad de encontrar un modelo en dicho espacio de búsqueda ampliado que se ajuste de la mejor manera posible a nuestros datos que no podríamos encontrar si durante la etapa de entrenamiento del modelo, no se probaran diferentes valores para los demás parámetros del algoritmo aparte de la tasa de aprendizaje. \n",
    "\n",
    "**Nota 7:** Se seleccionó un valor de 0.0001 para el parámetro eta0 (tasa de aprendizaje inicial), ya que al ser un valor mayormente pequeño, permitirá que el modelo durante su etapa de entrenamiento, aprenda a un ritmo mayormente lento, lo cual muy probablemente garantizará que el algoritmo no pase por alto el punto de convergencia que generalmente sucede cuando se asigna un valor inicial grande a la tasa de aprendizaje, por lo que eso también asegurará que el entrenamiento en general sea el adecuado para el modelo y que éste mismo al converger, aprenda los patrones que siguen los datos usados para su entrenamiento y sea capaz de generalizarlos para predecir de forma mayormente correcta las salidas para nuevos datos que el modelo aún no conozca.\n",
    "\n",
    "**Nota 8:** Se elige un valor booleano True para el parámetro early_stopping para que finalice el entrenamiento del modelo en caso de que el puntaje de validación obtenido en su entrenamiento ya no sea inferior al valor mínimo de pérdida obtenido hasta el momento, por lo que si esto sucede durante 10 iteraciones de entrenamiento consecutivas, se asume que ya no hay una mayor mejoría posible para los parámetros del modelo, por lo que el entrenamiento del mismo termina en ese punto. \n"
   ]
  },
  {
   "cell_type": "code",
   "execution_count": 87,
   "id": "25c517c6",
   "metadata": {},
   "outputs": [],
   "source": [
    "# Crear el modelo de regresión lineal con gradiente descendente estocástico con los parámetros mostrados\n",
    "\n",
    "regresion_lineal = SGDRegressor(loss = \"squared_error\", penalty = \"l2\", alpha = 0.05, fit_intercept = True, \n",
    "                                max_iter = 410000, tol = 0.01, learning_rate = \"constant\", eta0 = 0.0001, \n",
    "                                early_stopping = True, n_iter_no_change = 10) "
   ]
  },
  {
   "cell_type": "markdown",
   "id": "bb62185f",
   "metadata": {},
   "source": [
    "### Entrenamiento del modelo"
   ]
  },
  {
   "cell_type": "code",
   "execution_count": 88,
   "id": "d79e5856",
   "metadata": {},
   "outputs": [
    {
     "data": {
      "text/plain": [
       "SGDRegressor(alpha=0.05, early_stopping=True, eta0=0.0001,\n",
       "             learning_rate='constant', max_iter=410000, n_iter_no_change=10,\n",
       "             tol=0.01)"
      ]
     },
     "execution_count": 88,
     "metadata": {},
     "output_type": "execute_result"
    }
   ],
   "source": [
    "# Entrenar el modelo de regresión lineal creado anteriormente\n",
    "\n",
    "# El primer argumento de la función fit() son los valores de la variable predictora Celsius del\n",
    "# subset de entrenamiento\n",
    "\n",
    "# El segundo argumento de fit() son los valores de la variable objetivo Valks del subset de \n",
    "# entrenamiento\n",
    "\n",
    "\"\"\"Nota: dado que el método fit() admite solamente arreglos de 2 dimensiones para el caso de la varible predictora, \n",
    "   se procede a convertir dicho arreglo 1D que contiene los valores de Celsius a un arreglo de numpy y posteriormente, \n",
    "   se reestructura dicho arreglo con el método reshape() para que sea un arreglo 2D, por lo que el nuevo arreglo 2D tiene\n",
    "   filas que son en realidad otros arreglos con un solo elemento en ellos, además de que el nuevo arreglo 2D también tiene\n",
    "   1 columna de datos, por lo cual, la nueva forma de los datos de celsius es (70, 1) en vez de (70,), por lo cual, el nuevo\n",
    "   arreglo 2D ya puede ser aceptado por el método fit() para entrenar el modelo.\"\"\"\n",
    "\n",
    "regresion_lineal.fit(data_train[\"Celsius\"].to_numpy().reshape(-1, 1), data_train[\"Valks\"])"
   ]
  },
  {
   "cell_type": "markdown",
   "id": "cf9ae84d",
   "metadata": {},
   "source": [
    "## Prueba del modelo"
   ]
  },
  {
   "cell_type": "markdown",
   "id": "fdd1ea9d",
   "metadata": {},
   "source": [
    "### Cálculo de las predicciones de los datos de prueba"
   ]
  },
  {
   "cell_type": "code",
   "execution_count": 89,
   "id": "0ca92241",
   "metadata": {},
   "outputs": [
    {
     "data": {
      "text/plain": [
       "array([-135.85359403,   29.35197158, -140.22515021,  -61.72962932,\n",
       "        -47.16368519,  -65.80231897,  -75.52561223,   16.02328422,\n",
       "         40.54680258, -106.1163744 ,   63.6651417 ,    8.10002861,\n",
       "        -55.43823561,   42.57023029,    8.30594258, -158.62823665,\n",
       "       -173.11819776, -159.2259697 ,   31.52381945, -137.72024346,\n",
       "        -71.10593348,    2.17259354,  -99.44253285,  -65.88843306,\n",
       "         34.8969588 ,   53.49861418, -163.84826983, -169.71922419,\n",
       "        -87.45241295, -156.70586634])"
      ]
     },
     "execution_count": 89,
     "metadata": {},
     "output_type": "execute_result"
    }
   ],
   "source": [
    "# Calcular la predicción en Valks para cada uno de los valores de celsius del subset de datos de prueba,\n",
    "# por medio del método predict() del modelo entrenado\n",
    "\n",
    "# Nota: los datos en celsius del subset de datos de prueba, se transforman en un arreglo de numpy \n",
    "# bidimensional para ser aceptado por el método predict() del modelo \n",
    "\n",
    "# Guardar las predicciones calculadas en la variable valks_predicted\n",
    "\n",
    "valks_predicted = regresion_lineal.predict(data_test[\"Celsius\"].to_numpy().reshape(-1, 1))\n",
    "\n",
    "# Mostrar las primeras equivalencias en Valks de los datos en celsius del subset de datos de prueba\n",
    "\n",
    "valks_predicted"
   ]
  },
  {
   "cell_type": "markdown",
   "id": "015bbe71",
   "metadata": {},
   "source": [
    "### Gráfica de los datos reales vs las predicciones"
   ]
  },
  {
   "cell_type": "code",
   "execution_count": 90,
   "id": "844d707d",
   "metadata": {},
   "outputs": [
    {
     "data": {
      "image/png": "[encoded data removed]",
      "text/plain": [
       "<Figure size 432x288 with 1 Axes>"
      ]
     },
     "metadata": {
      "needs_background": "light"
     },
     "output_type": "display_data"
    }
   ],
   "source": [
    "# Graficar en un mismo gráfico, los grados celsius vs valks verdaderos del subset de prueba\n",
    "\n",
    "plt.scatter(data_test[\"Celsius\"], data_test[\"Valks\"], color = \"green\", label = \"Reales\")\n",
    "\n",
    "# Graficar dentro del mismo gráfico, los grados celsius del subset de prueba vs las predicciones en Valks\n",
    "# hechas por el modelo\n",
    "\n",
    "# Función plot para trazar la tendencia de las predicciones con una recta que pase por los puntos \n",
    "# correspondientes a las mismas\n",
    "\n",
    "plt.plot(data_test[\"Celsius\"], valks_predicted, color = \"purple\", linewidth = 2, label = \"Predicciones\")\n",
    "\n",
    "# Graficar grados celsius en el eje horizontal\n",
    "\n",
    "plt.xlabel(\"Celsius\") \n",
    "\n",
    "# Graficar Valks en el eje vertical\n",
    "\n",
    "plt.ylabel(\"Valks\") \n",
    "\n",
    "# Título del gráfico\n",
    "\n",
    "plt.title(\"Regresión lineal: Celsius vs Valks\") \n",
    "\n",
    "# Agregar leyenda al gráfico\n",
    "\n",
    "plt.legend()\n",
    "\n",
    "# Mostrar gráfico de datos reales vs predicciones del modelo\n",
    "\n",
    "plt.show() "
   ]
  },
  {
   "cell_type": "code",
   "execution_count": 91,
   "id": "ccfb94ad",
   "metadata": {},
   "outputs": [
    {
     "name": "stdout",
     "output_type": "stream",
     "text": [
      "Valks = 22.054309465749657 + -2.5327671943532715 * Celsius\n"
     ]
    }
   ],
   "source": [
    "# Mostrar ecuación del modelo calculado para el subconjunto de datos de prueba\n",
    "\n",
    "print(f'Valks = {regresion_lineal.intercept_[0]} + {regresion_lineal.coef_[0]} * Celsius')"
   ]
  },
  {
   "cell_type": "markdown",
   "id": "6a52aef4",
   "metadata": {},
   "source": [
    "## Cálculo de métrica de error: error cuadrático medio"
   ]
  },
  {
   "cell_type": "markdown",
   "id": "fbf030ce",
   "metadata": {},
   "source": [
    "### Error cuadrático medio (MSE) para subconjunto de entrenamiento"
   ]
  },
  {
   "cell_type": "code",
   "execution_count": 92,
   "id": "541e485f",
   "metadata": {},
   "outputs": [
    {
     "data": {
      "text/plain": [
       "array([  36.77323274, -133.63995551,  -50.22580073,    2.79894687,\n",
       "        -34.11233584,  -38.41297453,  -53.51333254,  -46.17590598,\n",
       "          9.11592153,   69.69566039,   22.91664071, -169.80533827,\n",
       "          7.48887188,  -40.14792006, -118.19260839,  -93.21192555,\n",
       "        -99.1993872 ,  -26.63307431, -171.67452046,  -13.50320918,\n",
       "         39.80748784,  -23.93061171,   48.10888559, -133.52851375,\n",
       "       -115.50787516,  -51.33515276, -170.25617083, -170.30682618,\n",
       "       -121.17874091,   32.78994977,   48.00504214, -167.95895099,\n",
       "        -12.6749943 ,  -93.3081707 , -162.65027095,  -16.3576378 ,\n",
       "       -103.27460961,    0.31328915, -152.93457599,    2.57150438,\n",
       "        -71.3592102 , -142.35520742, -127.93869655,  -15.93213292,\n",
       "       -170.37014536, -129.98263968, -124.63596813, -119.20824803,\n",
       "        -75.52307946, -104.35103567,  -93.37402265,   63.98427037,\n",
       "        -83.31893689,  -90.98562319, -106.95472035, -119.0714786 ,\n",
       "         64.64785537,  -23.64947456,   11.03044025, -128.69599394,\n",
       "         61.01586722,   25.37907296,   37.5994214 ,  -66.52162486,\n",
       "       -118.43575404,   59.04537434,   -7.60439438, -159.59322095,\n",
       "       -117.56954766, -163.85333537])"
      ]
     },
     "execution_count": 92,
     "metadata": {},
     "output_type": "execute_result"
    }
   ],
   "source": [
    "# Importar la función mean_squared_error() del módulo metrics de la librería Scikit-Learn\n",
    "\n",
    "from sklearn.metrics import mean_squared_error\n",
    "\n",
    "# Utilizar el modelo entrenado para predecir los grados Valks a partir de los grados celsius\n",
    "# del subconjunto de datos de entrenamiento\n",
    "\n",
    "predictions_train = regresion_lineal.predict(data_train[\"Celsius\"].to_numpy().reshape(-1, 1))\n",
    "\n",
    "# Mostrar las predicciones realizadas\n",
    "\n",
    "predictions_train"
   ]
  },
  {
   "cell_type": "markdown",
   "id": "4ee22dfe",
   "metadata": {},
   "source": [
    "A continuación, se procederá a calcular el valor del MSE (error cuadrático medio) para el subconjunto de datos de entrenamiento, para lo cual en base a las predicciones en Valks calculadas para cada valor en celsius del subset de entrenamiento, se calculará el valor del MSE mediante la sumatoria de los cuadrados de las diferencias entre los datos en valks reales del conjunto de entrenamiento y las predicciones igualmente en valks que el modelo calculó para cada datos en celsius del susbset de entrenamiento y multiplicando el resultado de dicha sumatoria por $\\frac{1}{n}$, esto se representa matemáticamente por medio de la siguiente expresión:\n",
    "\n",
    "$MSE = \\frac{1}{n}\\sum_{i = 1}^{n}{(y - \\hat{y})^{2}}$\n",
    "\n",
    "Donde n se refiere a la cantidad de observaciones del subconjunto de entrenamiento, $y$ hace referencia a los datos verdaderos en valks del subset de entrenamiento y $\\hat{y}$ representa las predicciones en valks para cada dato en celsius del subconjunto de entrenamiento. "
   ]
  },
  {
   "cell_type": "code",
   "execution_count": 93,
   "id": "10f3b3f7",
   "metadata": {},
   "outputs": [
    {
     "name": "stdout",
     "output_type": "stream",
     "text": [
      "MSE para subconjunto de datos de entrenamiento: 386.13185469075336\n"
     ]
    }
   ],
   "source": [
    "# Calcular el valor del MSE para el subconjunto de datos de entrenamiento mediante la función mean_squared_error()\n",
    "\n",
    "# data_train[\"Valks\"] se refiere a los datos en valks reales del conjunto de entrenamiento\n",
    "\n",
    "# predictions_train hace referencia a los valores en valks predichos por el modelo para los \n",
    "# datos del subset de entrenamiento\n",
    "\n",
    "train_MSE = mean_squared_error(data_train[\"Valks\"], predictions_train)\n",
    "\n",
    "# Mostrar el valor del MSE para el subconjunto de datos de entrenamiento\n",
    "\n",
    "print(f'MSE para subconjunto de datos de entrenamiento: {train_MSE}')"
   ]
  },
  {
   "cell_type": "markdown",
   "id": "0517d602",
   "metadata": {},
   "source": [
    "### Error cuadrático medio (MSE) para subconjunto de prueba"
   ]
  },
  {
   "cell_type": "code",
   "execution_count": 94,
   "id": "31a9e6c8",
   "metadata": {},
   "outputs": [
    {
     "name": "stdout",
     "output_type": "stream",
     "text": [
      "MSE para subconjunto de datos de prueba: 382.4533753226244\n"
     ]
    }
   ],
   "source": [
    "# Calcular el valor del MSE para el subconjunto de datos de prueba mediante la función mean_squared_error()\n",
    "\n",
    "# data_test[\"Valks\"] se refiere a los datos en valks reales del conjunto de prueba\n",
    "\n",
    "# valks_predicted se refiere a los datos en valks predichos por el modelo para cada dato en celsius del\n",
    "# subconjunto de prueba\n",
    "\n",
    "test_MSE = mean_squared_error(data_test[\"Valks\"], valks_predicted)\n",
    "\n",
    "# Mostrar el valor del MSE para el subconjunto de datos de prueba\n",
    "\n",
    "print(f'MSE para subconjunto de datos de prueba: {test_MSE}')"
   ]
  },
  {
   "cell_type": "markdown",
   "id": "577362db",
   "metadata": {},
   "source": [
    "### $R^{2}$ para el subconjunto de datos de prueba"
   ]
  },
  {
   "cell_type": "markdown",
   "id": "e98627d3",
   "metadata": {},
   "source": [
    "A manera de complemento, se procederá a calcular el valor del coeficiente de determinación $R^{2}$ para evaluar modelos de regresión, por lo que en términos generales, el valor de dicho coeficiente hace referencia a la proporción o porcentaje de la variabilidad total de los datos que es explicada por el modelo de regresión calculado por el algoritmo, motivo por el cual, entre más cercano a 1 sea el valor del $R^{2}$, el modelo será capaz de explicar una mayor proporción de variabilidad de los datos, lo cual implicará que dicho modelo sea más confiable para predecir la equivalencia en Valks de una cierta cantidad de grados celsius, lo cual a su vez será benéfico para evitar realizar una configuración errónea de la máquina reguladora de temperatura descrita en el challenge 1 de Valhalla, además el coeficiente de determinación está dado por la expresión:\n",
    "\n",
    "$R^{2} = 1 - \\frac{\\sum_{i = 1}^{n}{(y_{i} - \\hat{y_{i}})^{2}}}{\\sum_{i = 1}^{n}{(y_{i} - \\bar{y})}}$\n",
    "\n",
    "Donde a 1 se le resta el cociente de 2 sumatorias, la primera de ellas es la suma de los cuadrados de las diferencias entre los datos reales en Valks del subconjunto de prueba y los valores predichos en valks para cada dato en celsius del subset de prueba, mientras que la segunda sumatoria (la que está en el denominador) se refiere a la suma de las diferencias entre los datos en valks reales del subconjunto de prueba y la media de dichos datos en valks reales del subconjunto de datos de prueba también. \n",
    "\n",
    "* $y_{i}$ se refiere a los datos en valks reales del subconjunto de prueba.\n",
    "\n",
    "* $n$ se refiere a la cantidad de datos (filas) del subconjunto de prueba.\n",
    "\n",
    "* $\\hat{y_{i}}$ representa los datos en valks predichos por el modelo para el subconjunto de prueba.\n",
    "\n",
    "* $\\bar{y}$ representa la media de los datos en valks reales del subset de prueba."
   ]
  },
  {
   "cell_type": "code",
   "execution_count": 95,
   "id": "9cabbc88",
   "metadata": {},
   "outputs": [
    {
     "name": "stdout",
     "output_type": "stream",
     "text": [
      "R2 = 0.9523710043326618\n"
     ]
    }
   ],
   "source": [
    "# Calcular el valor del coeficiente de determinación R2 para las predicciones del subset de prueba\n",
    "\n",
    "# Importar la función r2_score() para calcular el coeficiente R^2 del modelo de regresión\n",
    "\n",
    "from sklearn.metrics import r2_score\n",
    "\n",
    "# Para obtener el R2, se comparan las predicciones de valks hechas por el modelo para el subset de prueba y \n",
    "# los valores verdaderos de valks del subset de prueba\n",
    "\n",
    "R2 = r2_score(data_test[\"Valks\"], valks_predicted)\n",
    "\n",
    "# Mostrar valor del coeficiente de determinación R2\n",
    "\n",
    "print(f'R2 = {R2}')"
   ]
  },
  {
   "cell_type": "markdown",
   "id": "20a0890a",
   "metadata": {},
   "source": [
    "Por último, se observa que el valor del coeficiente de determinación $R^{2}$ es igual a 0.9523, lo cual significa que el modelo entrenado es capaz de explicar el 95.23% de la variabilidad total de los datos, lo cual al ser considerablemente superior al 70% u 80% de variabilidad explicada, es posible afirmar que el modelo es capaz de generalizar de forma bastante acertada los patrones y tendencias que siguen los datos analizados, por lo cual, solamente existe un 4.77% de margen de error en las predicciones del modelo de regresión lineal, evidenciando así que el desempeño del modelo en general es en su gran mayoría adecuada, además de que las predicciones de las equivalencias en valks de los grados celsius, derivadas del mismo también son altamente confiables, por lo que el modelo obtenido es una alternativa adecuada para resolver el problema del calentamiento global en la tierra planteado inicialmente en el challenge 1 de Valhalla. "
   ]
  }
 ],
 "metadata": {
  "kernelspec": {
   "display_name": "Python 3 (ipykernel)",
   "language": "python",
   "name": "python3"
  },
  "language_info": {
   "codemirror_mode": {
    "name": "ipython",
    "version": 3
   },
   "file_extension": ".py",
   "mimetype": "text/x-python",
   "name": "python",
   "nbconvert_exporter": "python",
   "pygments_lexer": "ipython3",
   "version": "3.9.12"
  }
 },
 "nbformat": 4,
 "nbformat_minor": 5
}
