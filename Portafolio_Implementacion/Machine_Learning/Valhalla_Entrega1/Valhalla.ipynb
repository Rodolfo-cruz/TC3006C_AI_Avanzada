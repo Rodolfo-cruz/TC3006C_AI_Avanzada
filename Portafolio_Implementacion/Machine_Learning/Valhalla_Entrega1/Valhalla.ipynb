{
 "cells": [
  {
   "cell_type": "markdown",
   "id": "8ebf5f41",
   "metadata": {},
   "source": [
    "# Challenge 01: Conversor de Celsius a Valks"
   ]
  },
  {
   "cell_type": "markdown",
   "id": "ad2cc9cc",
   "metadata": {},
   "source": [
    "**Autor:** Rodolfo Jesús Cruz Rebollar\n",
    "\n",
    "**Matrícula:** A01368326\n",
    "\n",
    "**Grupo:** 101"
   ]
  },
  {
   "cell_type": "code",
   "execution_count": 1,
   "id": "c7ebef14",
   "metadata": {},
   "outputs": [],
   "source": [
    "# Importar librerías para el análisis, manipulación y graficación de datos\n",
    "\n",
    "import pandas as pd # Pandas para análisis y manipulación de datos\n",
    "\n",
    "import numpy as np # numpy para realizar operaciones matemáticas y matriciales\n",
    "\n",
    "import matplotlib.pyplot as plt # Matplotlib para realizar gráficos"
   ]
  },
  {
   "cell_type": "code",
   "execution_count": 2,
   "id": "23797d76",
   "metadata": {},
   "outputs": [
    {
     "data": {
      "text/html": [
       "<div>\n",
       "<style scoped>\n",
       "    .dataframe tbody tr th:only-of-type {\n",
       "        vertical-align: middle;\n",
       "    }\n",
       "\n",
       "    .dataframe tbody tr th {\n",
       "        vertical-align: top;\n",
       "    }\n",
       "\n",
       "    .dataframe thead th {\n",
       "        text-align: right;\n",
       "    }\n",
       "</style>\n",
       "<table border=\"1\" class=\"dataframe\">\n",
       "  <thead>\n",
       "    <tr style=\"text-align: right;\">\n",
       "      <th></th>\n",
       "      <th>Celsius</th>\n",
       "      <th>Valks</th>\n",
       "    </tr>\n",
       "  </thead>\n",
       "  <tbody>\n",
       "    <tr>\n",
       "      <th>0</th>\n",
       "      <td>61.4720</td>\n",
       "      <td>-139.740</td>\n",
       "    </tr>\n",
       "    <tr>\n",
       "      <th>1</th>\n",
       "      <td>70.5790</td>\n",
       "      <td>-156.600</td>\n",
       "    </tr>\n",
       "    <tr>\n",
       "      <th>2</th>\n",
       "      <td>-7.3013</td>\n",
       "      <td>73.269</td>\n",
       "    </tr>\n",
       "    <tr>\n",
       "      <th>3</th>\n",
       "      <td>71.3380</td>\n",
       "      <td>-165.420</td>\n",
       "    </tr>\n",
       "    <tr>\n",
       "      <th>4</th>\n",
       "      <td>43.2360</td>\n",
       "      <td>-75.835</td>\n",
       "    </tr>\n",
       "  </tbody>\n",
       "</table>\n",
       "</div>"
      ],
      "text/plain": [
       "   Celsius    Valks\n",
       "0  61.4720 -139.740\n",
       "1  70.5790 -156.600\n",
       "2  -7.3013   73.269\n",
       "3  71.3380 -165.420\n",
       "4  43.2360  -75.835"
      ]
     },
     "execution_count": 2,
     "metadata": {},
     "output_type": "execute_result"
    }
   ],
   "source": [
    "# Importar los datos a analizar, leyéndolos del archivo csv\n",
    "\n",
    "celsius_valks = pd.read_csv(\"Valhalla23.csv\")\n",
    "\n",
    "# Mostrar primeros 5 registros del dataframe para asegurar que los datos se hayan importado correctamente\n",
    "\n",
    "celsius_valks.head()"
   ]
  },
  {
   "cell_type": "code",
   "execution_count": 3,
   "id": "8e679550",
   "metadata": {},
   "outputs": [
    {
     "name": "stdout",
     "output_type": "stream",
     "text": [
      "<class 'pandas.core.frame.DataFrame'>\n",
      "RangeIndex: 100 entries, 0 to 99\n",
      "Data columns (total 2 columns):\n",
      " #   Column   Non-Null Count  Dtype  \n",
      "---  ------   --------------  -----  \n",
      " 0   Celsius  100 non-null    float64\n",
      " 1   Valks    100 non-null    float64\n",
      "dtypes: float64(2)\n",
      "memory usage: 1.7 KB\n"
     ]
    }
   ],
   "source": [
    "# Mostrar características generales de la base de datos\n",
    "\n",
    "celsius_valks.info()"
   ]
  },
  {
   "cell_type": "markdown",
   "id": "72506b00",
   "metadata": {},
   "source": [
    "Al observar las características generales de la base de datos, se puede notar que en total se tienen 100 registros de datos con 2 columnas, correspondientes a la temperatura en Celsius y Valks respectivamente, además, se aprecia que ambas columnas de información no presentan datos faltantes, ya que todos los datos en ambas son no nulos, motivo por el cual, al no detectar ninguna inconsistencia o error en la estructura de los datos, a continuación se procederá a separar el conjunto principal de datos en 2 subconjuntos, 1 para el entrenamiento del modelo de regresión lineal y otro para ponerlo a prueba. "
   ]
  },
  {
   "cell_type": "markdown",
   "id": "fad58a46",
   "metadata": {},
   "source": [
    "## Creación del conjunto de entrenamiento y de prueba"
   ]
  },
  {
   "cell_type": "markdown",
   "id": "f533bf74",
   "metadata": {},
   "source": [
    "### Conjunto de entrenamiento"
   ]
  },
  {
   "cell_type": "code",
   "execution_count": 4,
   "id": "682543b0",
   "metadata": {},
   "outputs": [
    {
     "data": {
      "text/html": [
       "<div>\n",
       "<style scoped>\n",
       "    .dataframe tbody tr th:only-of-type {\n",
       "        vertical-align: middle;\n",
       "    }\n",
       "\n",
       "    .dataframe tbody tr th {\n",
       "        vertical-align: top;\n",
       "    }\n",
       "\n",
       "    .dataframe thead th {\n",
       "        text-align: right;\n",
       "    }\n",
       "</style>\n",
       "<table border=\"1\" class=\"dataframe\">\n",
       "  <thead>\n",
       "    <tr style=\"text-align: right;\">\n",
       "      <th></th>\n",
       "      <th>Celsius</th>\n",
       "      <th>Valks</th>\n",
       "    </tr>\n",
       "  </thead>\n",
       "  <tbody>\n",
       "    <tr>\n",
       "      <th>64</th>\n",
       "      <td>69.0900</td>\n",
       "      <td>-140.640</td>\n",
       "    </tr>\n",
       "    <tr>\n",
       "      <th>20</th>\n",
       "      <td>45.5740</td>\n",
       "      <td>-81.557</td>\n",
       "    </tr>\n",
       "    <tr>\n",
       "      <th>77</th>\n",
       "      <td>5.1084</td>\n",
       "      <td>35.183</td>\n",
       "    </tr>\n",
       "    <tr>\n",
       "      <th>91</th>\n",
       "      <td>-14.6050</td>\n",
       "      <td>91.536</td>\n",
       "    </tr>\n",
       "    <tr>\n",
       "      <th>22</th>\n",
       "      <td>64.9130</td>\n",
       "      <td>-142.020</td>\n",
       "    </tr>\n",
       "  </tbody>\n",
       "</table>\n",
       "</div>"
      ],
      "text/plain": [
       "    Celsius    Valks\n",
       "64  69.0900 -140.640\n",
       "20  45.5740  -81.557\n",
       "77   5.1084   35.183\n",
       "91 -14.6050   91.536\n",
       "22  64.9130 -142.020"
      ]
     },
     "execution_count": 4,
     "metadata": {},
     "output_type": "execute_result"
    }
   ],
   "source": [
    "# Importar librería random que contiene funciones para elegir aleatoriamente elementos de estructuras de datos o generar\n",
    "# valores aleatorios\n",
    "\n",
    "import random as rnd\n",
    "\n",
    "# Generar el conjunto de datos de entrenamiento para el modelo (el 70% de los datos originales se destinará para entrenamiento)\n",
    "\n",
    "train_data = celsius_valks.iloc[rnd.choices(range(celsius_valks.shape[0]), k = round(0.7 * celsius_valks.shape[0])), :]\n",
    "\n",
    "# Mostrar los primeros registros del subconjunto de datos para entrenar el modelo \n",
    "\n",
    "train_data.head()\n"
   ]
  },
  {
   "cell_type": "markdown",
   "id": "b0189379",
   "metadata": {},
   "source": [
    "En términos generales, para generar el subconjunto de datos para entrenar el modelo, lo primero que se realizó fue calcular cuántos registros (filas) tiene el conjunto total de datos con ayuda de la función shape que devuelve una tupla con dos elementos, el primero es la cantidad de filas del dataframe y el segundo es la cantidad de columnas del mismo, por lo que en este caso particular, se toma solamente el primer elemento de la tupla devuelta por la función shape (tiene como índice 0) que coresponde a la cantidad de registros del dataframe original, para luego en base a la cantidad de filas, la función range() genera una secuencia de números enteros desde 0 hasta la cantidad de filas menos 1, por lo que al tener 100 filas, range devolverá una secuencia de enteros desde 0 hasta 99 y dicha secuencia de enteros es recibida por la función choices() del módulo random, la cual escoge aleatoriamente una cierta cantidad de elementos de una lista, especificada en su parámetro k, que en este caso, dicha cantidad k se calcula obteniendo el 70% de la cantidad de filas del dataframe original y luego redondeando dicho resultado al entero más cercano, esto con el objetivo de evitar tener errores de formato numérico al momento de ejecutar el renglón de código en caso de que al calcular el porcentaje de datos para entrenamiento, se obtenga una cantidad con decimales. Además de lo anterior, después de calcular el valor k y definir la secuencia de enteros aleatorios para la función choices(), se procede a que la función choices() elige aleatoriamente k valores enteros de la secuencia definida previamente y envía dicha lista de enteros aleatorios al método iloc para decirle que extraiga las filas especificadas en la lista que recibe dicho método , mismas que se encuentran identificadas por su índice numérico (son los enteros aleatorios obtenidos antes) y a su vez también extraiga todas las columnas que conforman a dichas filas. Es importante recalcar que el método iloc identifica filas y columnas mediante su índice numérico en lugar de sus nombres. "
   ]
  },
  {
   "cell_type": "markdown",
   "id": "a9c4ab63",
   "metadata": {},
   "source": [
    "### Conjunto de prueba"
   ]
  },
  {
   "cell_type": "code",
   "execution_count": 5,
   "id": "7cabfb2e",
   "metadata": {},
   "outputs": [
    {
     "data": {
      "text/html": [
       "<div>\n",
       "<style scoped>\n",
       "    .dataframe tbody tr th:only-of-type {\n",
       "        vertical-align: middle;\n",
       "    }\n",
       "\n",
       "    .dataframe tbody tr th {\n",
       "        vertical-align: top;\n",
       "    }\n",
       "\n",
       "    .dataframe thead th {\n",
       "        text-align: right;\n",
       "    }\n",
       "</style>\n",
       "<table border=\"1\" class=\"dataframe\">\n",
       "  <thead>\n",
       "    <tr style=\"text-align: right;\">\n",
       "      <th></th>\n",
       "      <th>Celsius</th>\n",
       "      <th>Valks</th>\n",
       "    </tr>\n",
       "  </thead>\n",
       "  <tbody>\n",
       "    <tr>\n",
       "      <th>0</th>\n",
       "      <td>61.472</td>\n",
       "      <td>-139.740</td>\n",
       "    </tr>\n",
       "    <tr>\n",
       "      <th>1</th>\n",
       "      <td>70.579</td>\n",
       "      <td>-156.600</td>\n",
       "    </tr>\n",
       "    <tr>\n",
       "      <th>5</th>\n",
       "      <td>-10.246</td>\n",
       "      <td>83.437</td>\n",
       "    </tr>\n",
       "    <tr>\n",
       "      <th>7</th>\n",
       "      <td>34.688</td>\n",
       "      <td>-55.108</td>\n",
       "    </tr>\n",
       "    <tr>\n",
       "      <th>8</th>\n",
       "      <td>75.751</td>\n",
       "      <td>-182.820</td>\n",
       "    </tr>\n",
       "  </tbody>\n",
       "</table>\n",
       "</div>"
      ],
      "text/plain": [
       "   Celsius    Valks\n",
       "0   61.472 -139.740\n",
       "1   70.579 -156.600\n",
       "5  -10.246   83.437\n",
       "7   34.688  -55.108\n",
       "8   75.751 -182.820"
      ]
     },
     "execution_count": 5,
     "metadata": {},
     "output_type": "execute_result"
    }
   ],
   "source": [
    "# El conjunto de prueba estará conformado por todos los datos que no fueron seleccionados de forma aleatoria al momento de \n",
    "# generar el conjunto de entrenamiento\n",
    "\n",
    "# Obtener los índices numéricos de las filas que no fueron seleccionadas al generar el conjunto de entrenamiento\n",
    "\n",
    "# la función lambda en conjunto con la función filter, verifican si cada índice de fila del dataframe completo \n",
    "# se encuentra entre los índices de fila del subconjunto de entrenamiento, de no ser así, se selecciona dicho índice para\n",
    "# incluir la fila correspondiente al mismo, al conjunto de prueba, esto garantiza que el subconjunto de prueba tenga datos que\n",
    "# el modelo aún no haya visto y finalmente se incluyen los índices filtrados en una nueva lista\n",
    "\n",
    "filas_no_elegidas = list(filter(lambda x: x not in train_data.index.values, celsius_valks.index.values))\n",
    "\n",
    "# Extraer las filas que no estén en el subconjunto de entrenamiento con todas sus columnas\n",
    "\n",
    "test_data = celsius_valks.iloc[filas_no_elegidas, :]\n",
    "\n",
    "# Mostrar los primeros registros del conjunto de prueba para asegurar que los datos estén bien estructurados\n",
    "\n",
    "test_data.head()"
   ]
  },
  {
   "cell_type": "markdown",
   "id": "5726bc0c",
   "metadata": {},
   "source": [
    "**Nota:** la cantidad de registros extraídos para el conjunto de prueba, corresponde al 30% de la cantidad de registros de la base de datos original (30 registros de 100). "
   ]
  },
  {
   "cell_type": "markdown",
   "id": "e31ab3e5",
   "metadata": {},
   "source": [
    "## Regresión lineal con gradiente descendente"
   ]
  },
  {
   "cell_type": "markdown",
   "id": "b02aa054",
   "metadata": {},
   "source": [
    "Para implementar un modelo de regresión lineal con gradiente descendente para resolver la problemática planteada, en primera instancia es necesario tomar en consideración aquellas ecuaciones en las que está basado el funcionamiento del modelo en sí mismo, entre las que se encuentran: la función de costo denotada como J, las funciones correspondientes a las derivadas parciales respecto a $\\theta_{0}$ y $\\theta_{1}$ de dicha función de costo, además de aquellas otras ecuaciones correspondientes  al cálculo tanto del parámetro $\\theta_{0}$ como del parámetro $\\theta_{1}$, mismos que irán actualizándose a medida que el algoritmo necesite una mayor cantidad de iteraciones para encontrar el punto de convergencia, mismo que se define como el momento en el cual la función de costo J alcanza su mínimo valor posible para los datos en cuestión.\n",
    "\n",
    "Debido a lo anterior, a continuación se mencionan las ecuaciones que se utilizarán para la implementación efectiva del modelo de regresión lineal:\n",
    "\n",
    "**Función de costo J:**\n",
    "\n",
    "$J_{\\theta} = \\frac{1}{2n}\\sum_{i = 1}^{n}{(h_{\\theta}(x_{i}) - y_{i})^{2}}$\n",
    "\n",
    "Donde $h_{\\theta}(x_{i}) = \\theta_{0} + \\theta_{1}x_{i}$\n",
    "\n",
    "**Derivadas parciales de J:**\n",
    "\n",
    "$\\frac{\\partial J}{\\partial \\theta_{0}} = \\frac{1}{n}\\sum_{i = 1}^{n}{(h_{\\theta}(x_{i}) - y_{i})}$\n",
    "\n",
    "$\\frac{\\partial J}{\\partial \\theta_{1}} = \\frac{1}{n}\\sum_{i = 1}^{n}{(h_{\\theta}(x_{i}) - y_{i})x_{i}}$\n",
    "\n",
    "**Cálculo de $\\theta_{0}$ y $\\theta_{1}$ mediante gradiente descendente:**\n",
    "\n",
    "$\\theta_{0} = \\theta_{0} - \\alpha\\frac{1}{n}\\sum_{i = 1}^{n}{(h_{\\theta}(x_{i}) - y_{i})}$\n",
    "\n",
    "$\\theta_{1} = \\theta_{1} - \\alpha\\frac{1}{n}\\sum_{i = 1}^{n}{(h_{\\theta}(x_{i}) - y_{i})x_{i}}$"
   ]
  },
  {
   "cell_type": "markdown",
   "id": "b573f571",
   "metadata": {},
   "source": [
    "Para definir la función del método de gradiente descendente a continuación, los parámetros $\\theta_{0}$ y $\\theta_{1}$ tendrán ambos un valor inicial de 1, esto debido principalmente a que al asignar inicialmente valores unitarios a dichos parámetros del modelo, se comienza el algoritmo con un modelo básico en el sentido de que al comienzo de todo el proceso iterativo, al no saber todavía con certeza cuáles serán los valores adecuados para los parámetros del modelo, el hecho de asignar un valor unitario a éstos garantiza que al iniciar el proceso, tanto la ordenada al origen como el coeficiente de la variable x tengan una cierta contribución, peso o influencia en las primeras predicciones derivadas del algoritmo, esto mientras se calculan nuevos valores para los parámetros del modelo a medida que avanzan las iteraciones del algoritmo, por lo que después de la primera iteración del algoritmo, los valores unitarios iniciales se reemplazarán por los nuevos valores calculados en dicha iteración y así sucesivamente, por lo cual, se seleccionaron valores iniciales de 1 para los $\\theta$ solamente para comenzar el algoritmo con un \"modelo por default\". \n",
    "\n",
    "Además de lo anterior, para implementar el modelo de regresión lineal con gradiente descendente se necesita definir un parámetro adicional llamado $\\alpha$ que será la tasa de aprendizaje del modelo (rapidez con la que aprende el modelo a identificar patrones en los datos) y otro parámetro conocido como $\\epsilon$ que se refiere al límite máximo de error permitido para el modelo, es decir, el criterio que se utilizará para definir si la función de costo J converge, por lo que en caso de que llegue un momento en el cual el valor de ambas derivadas de la función J sean inferiores al valor de $\\epsilon$, se alcanzará la convergencia del algoritmo y en ese punto terminará todo el proceso iterativo, es decir, terminará el algoritmo en sí. Por otro lado, utilizaremos una tasa de aprendizaje $\\alpha = 0.003$ debido a que es un valor que no es excesivamente pequeño pero tampoco muy grande, esto en el sentido de que garantizará que el algoritmo aprenda a un ritmo moderado, es decir, que no sea excesivamente rápido o lento, dado que en caso de que dicho valor $\\alpha$ sea muy pequeño, se corre el riesgo de que el algoritmo al aprender a un ritmo muy lento, necesite demasiadas iteraciones, lo cual implicaría que el algoritmo demore mucho tiempo en proporcionar una respuesta a tal punto de que dicha respuesta al no llegar a tiempo, retrase los procesos por ejemplo de alguna empresa, o industria y perjudicando su capacidad para operar de forma eficente, por lo que en resumen un valor de $\\alpha$ muy pequeño puede provocar que el algoritmo se vuelva prácticamente ineficiente sobretodo en situaciones en las que se requiere una respuesta a la brevedad posible. Sin embargo, si se elige un valor de $\\alpha$ grande, se corre el riesgo de que durante el proceso iterativo del algoritmo, se pase por alto el punto mínimo en el que la función J alcanza un valor inferior al $\\epsilon$, provocando que al final de todo el algoritmo, el modelo de regresión lineal resultante no sea el que mejor se ajuste a los datos en cuestión, por lo que en pocas palabras, un $\\alpha$ grande reduciría la capacidad del algoritmo para encontrar el mejor modelo posible para los datos además de que el modelo derivado del mismo no arrojaría predicciones de temperatura suficientemente confiables, lo que podría ocasionar que en vez de resolver la crisis del calentamiento global mencionada en el challenge 1, el planeta Tierra se podría calentar o enfriar en exceso y por consiguiente afectar negativamente a la vida en la Tierra.\n",
    "\n",
    "Adicionalmente, también cabe mencionar que en cuanto al parámetro de error máximo $\\epsilon$, éste mismo tendrá un valor de 0.01 para el problema en cuestión, ya que entre más pequeño sea el valor de éste parámetro, el algoritmo buscará obtener un modelo en su gran mayoría confiable en cuanto a las predicciones que arroje, sin embargo, $\\epsilon$ tampoco puede ser 0, debido a que por la propia naturaleza de los datos involucrados, tampoco resulta posible encontrar algún modelo que prediga correctamente la temperatura en Valks para absolutamente todos los datos en grados celsius, por lo que 0 no es un valor adecuado para el parámetro $\\epsilon$. No obstante si en cambio el valor de $\\epsilon$ es grande, tampoco es recomendable dado que estaríamos permitiendo que el modelo resultante del algoritmo tenga mayor margen de error, lo cual puede causar que las predicciones derivadas del mismo no tengan un grado de confiabilidad suficiente para convertir grados celsius a valks, lo que de nuevo puede llevar a una toma de decisiones errónea y nuevamente eso agravaría la crisis del cambio climático que se desea resolver en la problemática abordada, por lo que 0.01 resulta ser una elección que no es un valor excesivamente pequeño pero tampoco muy grande, por lo que resulta adecuado como valor para el parámetro de error máximo admisible $\\epsilon$."
   ]
  },
  {
   "cell_type": "code",
   "execution_count": 15,
   "id": "8881f655",
   "metadata": {},
   "outputs": [],
   "source": [
    "# Crear una serie de pandas que contenga ambos valores de theta a lo largo del algoritmo\n",
    "\n",
    "# Incialmente ambos hiperparámetros theta tendrán un valor de 1\n",
    "\n",
    "theta = pd.Series([1, 1], index = [\"theta0\", \"theta1\"])\n",
    "\n",
    "# Definir la tasa de aprendizaje alpha\n",
    "\n",
    "alpha = 0.003\n",
    "\n",
    "# Definir la máxima proporción permitida de error épsilon\n",
    "\n",
    "epsilon = 0.01"
   ]
  },
  {
   "cell_type": "markdown",
   "id": "ea158e9d",
   "metadata": {},
   "source": [
    "### Función de hipótesis h "
   ]
  },
  {
   "cell_type": "code",
   "execution_count": 16,
   "id": "dc08f17c",
   "metadata": {},
   "outputs": [],
   "source": [
    "# Establecer una función anónima lambda para evaluar los datos de la variable independiente (Celsius) en la función de hipótesis\n",
    "\n",
    "h = lambda x: theta[\"theta0\"] + theta[\"theta1\"] * x"
   ]
  },
  {
   "cell_type": "markdown",
   "id": "84164d20",
   "metadata": {},
   "source": [
    "### Función de costo J"
   ]
  },
  {
   "cell_type": "code",
   "execution_count": 17,
   "id": "a95f23e9",
   "metadata": {},
   "outputs": [],
   "source": [
    "# Definir la función de costo que recibe 2 parámetros de entrada: número de registros del dataframe y datos de entrenamiento\n",
    "\n",
    "def J_function(n, data):\n",
    "    \n",
    "    # Calcular el valor de la función J para los datos: primero los datos de temperatura en grados Celsius se multiplican por \n",
    "    # el valor del parámetro theta 1 y después a dichos resultados se les suma el valor de theta 0, para después a dichos \n",
    "    # resultdos restarles los datos de temperatura en Valks, elevar los valores resultantes al cuadrado, sumarlos y finalmente\n",
    "    # multiplicar el resultado de la suma por 1/2n\n",
    "    \n",
    "    J  = (1 / (2 * n)) * (((h(data[\"Celsius\"]) - data[\"Valks\"]) ** 2).sum())\n",
    "    \n",
    "    # Devolver el valor de la función J\n",
    "    \n",
    "    return J\n",
    "     "
   ]
  },
  {
   "cell_type": "markdown",
   "id": "d830a1e5",
   "metadata": {},
   "source": [
    "### Derivadas parciales de J"
   ]
  },
  {
   "cell_type": "code",
   "execution_count": 18,
   "id": "f1391cd1",
   "metadata": {},
   "outputs": [],
   "source": [
    "# Función para calcular derivada parcial de J respecto a theta0 que recibe como parámetros de entrada: número de datos de entre-\n",
    "# namiento (n) y los datos de entrenamiento (data)\n",
    "\n",
    "def J_partial_theta0(n, data):\n",
    "    \n",
    "    # Calcular la derivada de J respecto a theta0, primero calculando los residuos del modelo \n",
    "    # (Valks predichos con función h menos Valks reales), luego sumando los residuos obtenidos por muestra y\n",
    "    # por último, multiplicando dicha suma por 1/n\n",
    "    \n",
    "    derivada_theta_0 = (1 / n) * ((h(data[\"Celsius\"]) - data[\"Valks\"]).sum())\n",
    "    \n",
    "    # Devolver el valor de la derivada de J respecto a theta0\n",
    "    \n",
    "    return derivada_theta_0"
   ]
  },
  {
   "cell_type": "code",
   "execution_count": 19,
   "id": "05ad0710",
   "metadata": {},
   "outputs": [],
   "source": [
    "# Función que calcula el valor de la derivada de J respecto a theta1, recibiendo como parámetros de entrada: cantidad de datos\n",
    "# de entrenamiento (n) y los datos de entrenamiento en sí (data)\n",
    "\n",
    "def J_partial_theta1(n, data):\n",
    "    \n",
    "    # Calcular valor de la derivada de J respecto a theta1, primero calculando para cada registro de datos, la diferencia entre\n",
    "    # los Valks predichos con función h menos los Valks reales, después multiplicando las diferencias por los datos de celsius\n",
    "    # luego sumando los productos obtenidos y finalmente multiplicando el resultado de la suma por 1/n\n",
    "    \n",
    "    derivada_theta_1 = (1 / n) * (((h(data[\"Celsius\"]) - data[\"Valks\"]) * data[\"Celsius\"]).sum())\n",
    "    \n",
    "    # Devolver el valor de la derivada de J respecto a theta1\n",
    "    \n",
    "    return derivada_theta_1"
   ]
  },
  {
   "cell_type": "markdown",
   "id": "5ef4df50",
   "metadata": {},
   "source": [
    "### Función de gradiente descendente"
   ]
  },
  {
   "cell_type": "code",
   "execution_count": 20,
   "id": "79eddd11",
   "metadata": {},
   "outputs": [],
   "source": [
    "# Función para calcular los parámetros adecuados para el modelo de regresión lineal mediante el método del gradiente descendente\n",
    "\n",
    "\"\"\"La función recibe 4 argumentos de entrada: datos para entrenamiento, tasa de aprendizaje alpha, límite máximo de error \n",
    "   permitido para definir la convegencia del algoritmo y el número máximo de iteraciones para generar el modelo (100).\"\"\"\n",
    "\n",
    "# El parámetro i = 500 indica que se entrenará el modelo con 500 iteraciones (más del mínimo solicitado de 100 iteraciones)\n",
    "\n",
    "def gradiente_descendente(data, alpha, epsilon, i = 500):\n",
    "    \n",
    "    # Longitud de conjunto de datos para entrenamiento\n",
    "    \n",
    "    n = len(data) \n",
    "    \n",
    "    # Definir variable booleana convergencia que indicará si se alcanza o no la convergencia del algoritmo\n",
    "    \n",
    "    convergencia = False # se inicializa en false dado que aún no se encuentra ningún modelo para los datos\n",
    "    \n",
    "    # Inicializar en 1 la variable k que contará el número de iteraciones del ciclo while\n",
    "    \n",
    "    k = 1\n",
    "    \n",
    "    # Ejecutar el algoritmo mientras que no se alcance el máximo de iteraciones y no se encuentre convergencia\n",
    "    # Esto con el propósito de que en caso de que el algoritmo converga, entonces se detenga el algoritmo aunque no se\n",
    "    # alcance el número máximo de iteraciones establecido. Además, el ciclo también se detendrá en caso de que a pesar de \n",
    "    # que el algoritmo no converga, se llegue a la cantidad máxima establecida de iteraciones, lo cual será solamente un paro\n",
    "    # de emergencia en el caso de que no suceda la convergencia y para que el algoritmo no itere infinitamente, sino que arroje\n",
    "    # una respuesta en el máximo de iteraciones establecido aunque no sea el modelo que mejor se ajuste a los datos\n",
    "    \n",
    "    while (k <= i) & (convergencia == False):\n",
    "        \n",
    "        # Calcular el valor de J (función de costo)\n",
    "        \n",
    "        J = J_function(n, data)\n",
    "        \n",
    "        # Calcular el valor de la derivada de J respecto a theta0\n",
    "        \n",
    "        deriv_theta_0 = J_partial_theta0(n, data)\n",
    "        \n",
    "        # Calcular el valor de la derivada de J respecto a theta1\n",
    "        \n",
    "        deriv_theta_1 = J_partial_theta1(n, data)\n",
    "        \n",
    "        # Calcular el valor actualizado del hiperparámetro theta0\n",
    "        \n",
    "        theta[\"theta0\"] -= alpha * deriv_theta_0\n",
    "        \n",
    "        # Calcular el valor actualizado del hiperparámetro theta1\n",
    "        \n",
    "        theta[\"theta1\"] -= alpha * deriv_theta_1\n",
    "        \n",
    "        # Verificar si el valor de las derivadas es inferior al límite máximo epsilon\n",
    "        \n",
    "        if (deriv_theta_0 < epsilon) & (deriv_theta_1 < epsilon):\n",
    "            \n",
    "            # De ser así, se habrá encontrado la convergencia del algoritmo para los datos\n",
    "            \n",
    "            convergencia = True\n",
    "        \n",
    "        # Actualizar el valor del número de iteración k\n",
    "        \n",
    "        k += 1\n",
    "        \n",
    "    # Desplegar el modelo de regresión lineal calculado para los datos\n",
    "    \n",
    "    print(f'El modelo para los datos es: Valks = {theta[\"theta0\"]} + {theta[\"theta1\"]} * Celsius')\n",
    "    \n",
    "    # Mostrar el valor óptimo de la función de costo J\n",
    "    \n",
    "    print(f'Valor J para el conjunto de datos: J = {J}')"
   ]
  },
  {
   "cell_type": "code",
   "execution_count": 21,
   "id": "3b77b870",
   "metadata": {},
   "outputs": [
    {
     "name": "stdout",
     "output_type": "stream",
     "text": [
      "El modelo para los datos es: Valks = 2.4247347523859704 + 78.20939979482725 * Celsius\n",
      "Valor J para el conjunto de datos: J = 253678.71585944213\n"
     ]
    }
   ],
   "source": [
    "# Crear y entrenar el modelo de regresión lineal con gradiente descendente\n",
    "\n",
    "# El modelo se crea en base a los datos de entrenamiento, por lo que se envía el dataset de entrenamiento como argumento a la\n",
    "# función de gradiente_descendente() además del valor de alpha y de epsilon\n",
    "\n",
    "# Nota: el resto de los argumentos ya no es necesario enviarlos porque ya tienen asignado un valor por defecto\n",
    "\n",
    "# Además, el modelo se entrenará con 500 iteraciones como se establece anteriormente\n",
    "\n",
    "gradiente_descendente(train_data, alpha, epsilon)"
   ]
  },
  {
   "cell_type": "markdown",
   "id": "e210ceeb",
   "metadata": {},
   "source": [
    "## Prueba del modelo implementado"
   ]
  },
  {
   "cell_type": "code",
   "execution_count": 22,
   "id": "4fbc1338",
   "metadata": {},
   "outputs": [
    {
     "name": "stdout",
     "output_type": "stream",
     "text": [
      "El modelo para los datos es: Valks = 32.945394258120174 + 1847.6431462425403 * Celsius\n",
      "Valor J para el conjunto de datos: J = 143718546.57103246\n"
     ]
    }
   ],
   "source": [
    "# Calcular el modelo de regresión lineal que se ajuste a los datos del subconjunto de prueba\n",
    "\n",
    "gradiente_descendente(test_data, alpha, epsilon)"
   ]
  },
  {
   "cell_type": "code",
   "execution_count": 29,
   "id": "c2aec800",
   "metadata": {},
   "outputs": [
    {
     "data": {
      "text/plain": [
       "0     113611.264880\n",
       "1     130437.751013\n",
       "5     -18898.006282\n",
       "7      64123.990851\n",
       "8     139993.761365\n",
       "9     141357.322007\n",
       "12    139930.941498\n",
       "18    109452.220158\n",
       "19    140359.594708\n",
       "23    135648.104685\n",
       "Name: Celsius, dtype: float64"
      ]
     },
     "execution_count": 29,
     "metadata": {},
     "output_type": "execute_result"
    }
   ],
   "source": [
    "# Calcular las predicciones para los Valks a partir de los celsius en base al modelo arrojado para los datos de prueba\n",
    "\n",
    "\"\"\"Nuevamente usar la función de hipótesis h para realizar las predicciones (los coeficientes calculados por el algoritmo se \n",
    "   encuentran en la lista original de valores theta\"\"\"\n",
    "\n",
    "pred_valks = h(test_data[\"Celsius\"])\n",
    "\n",
    "# Mostrar las primeras 10 predicciones en Valks para los datos de prueba\n",
    "\n",
    "pred_valks.head(10)"
   ]
  },
  {
   "cell_type": "markdown",
   "id": "34250aec",
   "metadata": {},
   "source": [
    "### Graficar los Valks reales vs los predichos"
   ]
  },
  {
   "cell_type": "code",
   "execution_count": 41,
   "id": "6c6d53be",
   "metadata": {},
   "outputs": [
    {
     "data": {
      "image/png": "[encoded data removed]",
      "text/plain": [
       "<Figure size 432x288 with 1 Axes>"
      ]
     },
     "metadata": {
      "needs_background": "light"
     },
     "output_type": "display_data"
    }
   ],
   "source": [
    "# Graficar los Valks reales del conjunto de prueba contra los Valks predichos por el modelo\n",
    "\n",
    "# El parámetro c hace referencia a que los datos de Valks reales se graficarán en color azul y los predichos en color rojo\n",
    "\n",
    "plt.scatter(test_data[\"Celsius\"], test_data[\"Valks\"], color = \"blue\", label = \"Reales\") # Gráfico de los datos reales\n",
    "\n",
    "plt.scatter(test_data[\"Celsius\"], pred_valks, color = \"red\", label = \"Predicciones\") # Gráfico de los datos predichos\n",
    "\n",
    "plt.xlabel(\"Celsius\") # Graficar grados celsius en el eje horizontal\n",
    "\n",
    "plt.ylabel(\"Valks\") # Graficar Valks en el eje vertical\n",
    "\n",
    "plt.title(\"Regresión lineal: Celsius vs Valks\") # Título del gráfico\n",
    "\n",
    "plt.legend() # Agregar leyenda al gráfico\n",
    "\n",
    "plt.show() # Mostrar gráfico de datos reales vs predicciones del modelo"
   ]
  },
  {
   "cell_type": "markdown",
   "id": "2ce5c989",
   "metadata": {},
   "source": [
    "En términos generales, en la gráfica anterior se observa que las predicciones realizadas por el modelo implementado se alejan significativamente de los datos reales en Valks del subconjunto de datos de prueba, lo cual se debe principalmente al hecho de que el coeficiente $\\theta_{1}$ que se encuentra multiplicando a la variable predictora del modelo (temperatura en grados celsius), aún sigue siendo considerablemente grande, esto a pesar de que se realizó el entrenamiento del modelo con un total máximo de 500 iteraciones. Adicionalmente, esta diferencia notable entre los datos reales y los predichos también se atribuye a que los datos empleados para la generación del modelo también poseen una cierta variación considerable entre ellos en cuanto a su naturaleza, lo cual ocasiona que al momento de utilizarlos para aplicar el algoritmo, la variación existente entre los nuevos datos predichos también sea considerable, no obstante, dado que al momento de ejecutar el algoritmo, éste mismo no arroja ningún error durante su ejecución sobre el conjunto de datos en cuestión, además de que también logra converger después de una cierta cantidad de iteraciones, se concluye que el algoritmo tiene en general un desempeño mayormente adecuado para predecir la equivalencia en Valks de los datos de temperatura en celsius, pertenecientes al dataset de prueba, por lo que a pesar de que los datos predichos se encuentren alejados de los datos verdaderos, el algoritmo presenta un adecuado desempeño en cuanto a su capacidad de funcionamiento para calcular modelos predictivos que intenten explicar la variabilidad presente en los datos reales, además de que el alejamiento entre datos reales y predichos no se atribuye a algún fallo en la implementación del modelo, sino más bien a la variabilidad de los datos producida a su vez por la propia naturaleza de los mismos (son datos grandes en cuanto a su valor numérico)."
   ]
  }
 ],
 "metadata": {
  "kernelspec": {
   "display_name": "Python 3 (ipykernel)",
   "language": "python",
   "name": "python3"
  },
  "language_info": {
   "codemirror_mode": {
    "name": "ipython",
    "version": 3
   },
   "file_extension": ".py",
   "mimetype": "text/x-python",
   "name": "python",
   "nbconvert_exporter": "python",
   "pygments_lexer": "ipython3",
   "version": "3.9.12"
  }
 },
 "nbformat": 4,
 "nbformat_minor": 5
}
