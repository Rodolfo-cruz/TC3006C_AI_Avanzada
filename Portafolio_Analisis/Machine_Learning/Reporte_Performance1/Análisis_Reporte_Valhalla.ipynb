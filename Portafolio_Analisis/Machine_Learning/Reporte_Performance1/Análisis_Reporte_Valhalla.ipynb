{
 "cells": [
  {
   "cell_type": "markdown",
   "id": "4ffdabdb",
   "metadata": {},
   "source": [
    "# Análisis y reporte sobre el desempeño del modelo: Valhalla"
   ]
  },
  {
   "cell_type": "markdown",
   "id": "1a2bb161",
   "metadata": {},
   "source": [
    "**Autor:** Rodolfo Jesús Cruz Rebollar\n",
    "\n",
    "**Matrícula:** A01368326\n",
    "\n",
    "**Grupo:** 101"
   ]
  },
  {
   "cell_type": "code",
   "execution_count": 1,
   "id": "27a4cca6",
   "metadata": {},
   "outputs": [],
   "source": [
    "# Importar librería random para trabajar con valores aleatorios\n",
    "\n",
    "import random as rnd\n",
    "\n",
    "# Definir una semilla con los últimos 4 dígitos de mi matrícula (8326)\n",
    "\n",
    "semilla = rnd.seed(8326)\n"
   ]
  },
  {
   "cell_type": "markdown",
   "id": "614d8c34",
   "metadata": {},
   "source": [
    "## Importación de los datos"
   ]
  },
  {
   "cell_type": "code",
   "execution_count": 2,
   "id": "4d071704",
   "metadata": {},
   "outputs": [],
   "source": [
    "# Importar Numpy para trabajar con arreglos multidimensionales\n",
    "\n",
    "import numpy as np\n",
    "\n",
    "# Importar Pandas para manipular y analizar datos\n",
    "\n",
    "import pandas as pd\n",
    "\n",
    "# Importar matplotlib para realizar gráficos\n",
    "\n",
    "import matplotlib.pyplot as plt\n",
    "\n",
    "# Importar el regresor lineal con gradiente estocástico de la librería Scikit-Learn\n",
    "\n",
    "from sklearn.linear_model import SGDRegressor\n",
    "\n",
    "# Importar función train_test_split() del módulo model_selection de Scikit-Learn\n",
    "\n",
    "from sklearn.model_selection import train_test_split"
   ]
  },
  {
   "cell_type": "code",
   "execution_count": 3,
   "id": "4d47d42f",
   "metadata": {},
   "outputs": [
    {
     "data": {
      "text/html": [
       "<div>\n",
       "<style scoped>\n",
       "    .dataframe tbody tr th:only-of-type {\n",
       "        vertical-align: middle;\n",
       "    }\n",
       "\n",
       "    .dataframe tbody tr th {\n",
       "        vertical-align: top;\n",
       "    }\n",
       "\n",
       "    .dataframe thead th {\n",
       "        text-align: right;\n",
       "    }\n",
       "</style>\n",
       "<table border=\"1\" class=\"dataframe\">\n",
       "  <thead>\n",
       "    <tr style=\"text-align: right;\">\n",
       "      <th></th>\n",
       "      <th>Celsius</th>\n",
       "      <th>Valks</th>\n",
       "    </tr>\n",
       "  </thead>\n",
       "  <tbody>\n",
       "    <tr>\n",
       "      <th>0</th>\n",
       "      <td>61.4720</td>\n",
       "      <td>-139.740</td>\n",
       "    </tr>\n",
       "    <tr>\n",
       "      <th>1</th>\n",
       "      <td>70.5790</td>\n",
       "      <td>-156.600</td>\n",
       "    </tr>\n",
       "    <tr>\n",
       "      <th>2</th>\n",
       "      <td>-7.3013</td>\n",
       "      <td>73.269</td>\n",
       "    </tr>\n",
       "    <tr>\n",
       "      <th>3</th>\n",
       "      <td>71.3380</td>\n",
       "      <td>-165.420</td>\n",
       "    </tr>\n",
       "    <tr>\n",
       "      <th>4</th>\n",
       "      <td>43.2360</td>\n",
       "      <td>-75.835</td>\n",
       "    </tr>\n",
       "  </tbody>\n",
       "</table>\n",
       "</div>"
      ],
      "text/plain": [
       "   Celsius    Valks\n",
       "0  61.4720 -139.740\n",
       "1  70.5790 -156.600\n",
       "2  -7.3013   73.269\n",
       "3  71.3380 -165.420\n",
       "4  43.2360  -75.835"
      ]
     },
     "execution_count": 3,
     "metadata": {},
     "output_type": "execute_result"
    }
   ],
   "source": [
    "# Importar el set de datos de Valhalla\n",
    "\n",
    "valhalla = pd.read_csv(\"Valhalla23.csv\")\n",
    "\n",
    "# Verificar la correcta importación de los datos\n",
    "\n",
    "valhalla.head()"
   ]
  },
  {
   "cell_type": "markdown",
   "id": "a73117f1",
   "metadata": {},
   "source": [
    "## Generación de subsets de entrenamiento, prueba y validación"
   ]
  },
  {
   "cell_type": "markdown",
   "id": "4afa9b16",
   "metadata": {},
   "source": [
    "Los porcentajes para entrenamiento, prueba y validación a considerar serán:\n",
    "\n",
    "* Entrenamiento: 40%\n",
    "\n",
    "* Prueba: 20%\n",
    "\n",
    "* Validación: 40%"
   ]
  },
  {
   "cell_type": "code",
   "execution_count": 4,
   "id": "3ad5ffd2",
   "metadata": {},
   "outputs": [],
   "source": [
    "# Dividir el dataset total en un subconjunto de entrenamiento y otro para prueba con la función train_test_split()\n",
    "\n",
    "# Nota: se agregó el parámetro random_state con la semilla definida previamente para que al momento de generar los subsets\n",
    "# aleatoriamente, se obtengan los mismos datos para cada subconjunto en las diferentes ocasiones que se corra el código \n",
    "\n",
    "c_train, c_test, v_train, v_test = train_test_split(valhalla[\"Celsius\"], valhalla[\"Valks\"], test_size = 0.6, \n",
    "                                                   train_size = 0.4, random_state = semilla)"
   ]
  },
  {
   "cell_type": "markdown",
   "id": "f1e34fec",
   "metadata": {},
   "source": [
    "### Conjunto de entrenamiento"
   ]
  },
  {
   "cell_type": "code",
   "execution_count": 5,
   "id": "b6e82f9e",
   "metadata": {},
   "outputs": [
    {
     "data": {
      "text/html": [
       "<div>\n",
       "<style scoped>\n",
       "    .dataframe tbody tr th:only-of-type {\n",
       "        vertical-align: middle;\n",
       "    }\n",
       "\n",
       "    .dataframe tbody tr th {\n",
       "        vertical-align: top;\n",
       "    }\n",
       "\n",
       "    .dataframe thead th {\n",
       "        text-align: right;\n",
       "    }\n",
       "</style>\n",
       "<table border=\"1\" class=\"dataframe\">\n",
       "  <thead>\n",
       "    <tr style=\"text-align: right;\">\n",
       "      <th></th>\n",
       "      <th>Celsius</th>\n",
       "      <th>Valks</th>\n",
       "    </tr>\n",
       "  </thead>\n",
       "  <tbody>\n",
       "    <tr>\n",
       "      <th>45</th>\n",
       "      <td>28.9760</td>\n",
       "      <td>-40.9340</td>\n",
       "    </tr>\n",
       "    <tr>\n",
       "      <th>57</th>\n",
       "      <td>14.0390</td>\n",
       "      <td>8.7644</td>\n",
       "    </tr>\n",
       "    <tr>\n",
       "      <th>2</th>\n",
       "      <td>-7.3013</td>\n",
       "      <td>73.2690</td>\n",
       "    </tr>\n",
       "    <tr>\n",
       "      <th>64</th>\n",
       "      <td>69.0900</td>\n",
       "      <td>-140.6400</td>\n",
       "    </tr>\n",
       "    <tr>\n",
       "      <th>18</th>\n",
       "      <td>59.2210</td>\n",
       "      <td>-117.9900</td>\n",
       "    </tr>\n",
       "  </tbody>\n",
       "</table>\n",
       "</div>"
      ],
      "text/plain": [
       "    Celsius     Valks\n",
       "45  28.9760  -40.9340\n",
       "57  14.0390    8.7644\n",
       "2   -7.3013   73.2690\n",
       "64  69.0900 -140.6400\n",
       "18  59.2210 -117.9900"
      ]
     },
     "execution_count": 5,
     "metadata": {},
     "output_type": "execute_result"
    }
   ],
   "source": [
    "# Formar el subset de entrenamiento con los datos en celsius y valks para entrenamiento (c_train y v_train)\n",
    "\n",
    "# Introducir los datos como un diccionario al dataframe para que al momento de formar el subset de entrenamiento, \n",
    "# los nombres de sus columnas sean automáticamente las claves del diccionario y cada clave se asocie a la serie de\n",
    "# datos correspondiente\n",
    "\n",
    "datos_train = pd.DataFrame({\"Celsius\": c_train, \"Valks\": v_train})\n",
    "\n",
    "# Verificar que el subset de entrenamiento se haya creado correctamente\n",
    "\n",
    "datos_train.head()"
   ]
  },
  {
   "cell_type": "markdown",
   "id": "e65e3d36",
   "metadata": {},
   "source": [
    "### Conjuntos de validación y prueba"
   ]
  },
  {
   "cell_type": "code",
   "execution_count": 6,
   "id": "040e5c70",
   "metadata": {},
   "outputs": [
    {
     "data": {
      "text/html": [
       "<div>\n",
       "<style scoped>\n",
       "    .dataframe tbody tr th:only-of-type {\n",
       "        vertical-align: middle;\n",
       "    }\n",
       "\n",
       "    .dataframe tbody tr th {\n",
       "        vertical-align: top;\n",
       "    }\n",
       "\n",
       "    .dataframe thead th {\n",
       "        text-align: right;\n",
       "    }\n",
       "</style>\n",
       "<table border=\"1\" class=\"dataframe\">\n",
       "  <thead>\n",
       "    <tr style=\"text-align: right;\">\n",
       "      <th></th>\n",
       "      <th>Celsius</th>\n",
       "      <th>Valks</th>\n",
       "    </tr>\n",
       "  </thead>\n",
       "  <tbody>\n",
       "    <tr>\n",
       "      <th>61</th>\n",
       "      <td>5.50950</td>\n",
       "      <td>32.198</td>\n",
       "    </tr>\n",
       "    <tr>\n",
       "      <th>62</th>\n",
       "      <td>30.59600</td>\n",
       "      <td>-49.374</td>\n",
       "    </tr>\n",
       "    <tr>\n",
       "      <th>76</th>\n",
       "      <td>-0.34047</td>\n",
       "      <td>51.101</td>\n",
       "    </tr>\n",
       "    <tr>\n",
       "      <th>80</th>\n",
       "      <td>15.16600</td>\n",
       "      <td>8.774</td>\n",
       "    </tr>\n",
       "    <tr>\n",
       "      <th>81</th>\n",
       "      <td>63.08300</td>\n",
       "      <td>-148.490</td>\n",
       "    </tr>\n",
       "  </tbody>\n",
       "</table>\n",
       "</div>"
      ],
      "text/plain": [
       "     Celsius    Valks\n",
       "61   5.50950   32.198\n",
       "62  30.59600  -49.374\n",
       "76  -0.34047   51.101\n",
       "80  15.16600    8.774\n",
       "81  63.08300 -148.490"
      ]
     },
     "execution_count": 6,
     "metadata": {},
     "output_type": "execute_result"
    }
   ],
   "source": [
    "# Formar el subconjunto de prueba inicial con los datos derivados de la partición del dataset total, contenidos en \n",
    "# las variables c_test y v_test, que corresponden a datos en celsius y valks pero esta vez ambos para prueba\n",
    "\n",
    "# Esta vez, la clave Celsius del diccionario tendrá asociados los datos en celsius destinados para formar el conjunto \n",
    "# de prueba inicial, mientras que la clave Valks se asociará con los datos en valks igualmente destinados para el subset\n",
    "# inicial de prueba\n",
    "\n",
    "# Se denomina subset de prueba inicial porque aún falta realizar otra partición sobre el conjunto de prueba inicial para\n",
    "# formar el conjunto de validación\n",
    "\n",
    "test_0 = pd.DataFrame({\"Celsius\": c_test, \"Valks\": v_test})\n",
    "\n",
    "# Mostrar la correcta generación de subset inicial de prueba\n",
    "\n",
    "test_0.head()"
   ]
  },
  {
   "cell_type": "markdown",
   "id": "0cc3fcdb",
   "metadata": {},
   "source": [
    "Ahora en base al subset de prueba inicial creado previamente, se creará un tercer subconjunto de datos destinado para la validación del modelo, que se define como la etapa en la cual, se ajustan los hiperparámetros del modelo entrenado para que éstos tengan los mejores valores posibles para que el modelo en si mismo se logre ajustar de manera adecuada a los datos de prueba cuando una vez que se hayan determinado los parámetros óptimos del modelo y ahora sí se proceda a evaluar el grado de desempeño del modelo con los parámetros optimizados en la etapa de validación anterior, por lo cual, para crear el subset de validación, se tomará como base el subset de prueba inicial que ya hemos creado almacenado en test_0, para luego volver a emplear la función train_test_split() de Scikit-Learn, pero ahora dicha función se aplicará sobre el subset de prueba inicial (test_0) obtenido antes y como parámetros de entrada de la función, en esta ocasión, la proporción del subset que se utilizará para \"entrenamiento\" que en realidad será el conjunto de validación, será del 66.67% (2/3), mientras que el 33.33% (1/3) sobrante se destinará para el \"test\" que en realidad será el subset de prueba definitivo para probar el modelo una vez optimizados sus hiperparámetros en la etapa anterior de validación. \n",
    "\n",
    "Además de lo anterior, también es importante mencionar que en relación a la forma en la que se obtuvieron los porcentajes para \"train\" (subset de validación) y \"test\" (subset de prueba definitivo) derivados del subset de prueba inicial test_0, en primera instancia, la proporción para el subset de validación se obtuvo calculando qué proporción corresponde al 40% del 60% de algo, como se muestra a continuación:\n",
    "\n",
    "$\\frac{40\\%}{60\\%} = \\frac{40}{60} = \\frac{4}{6} = \\frac{2}{3} = 0.\\bar{6}$\n",
    "\n",
    "Por lo tanto, lo anterior significa que el 66.67% ($\\frac{2}{3} * 100\\%$) de los datos del subset de prueba inicial (test_0) corresponde en realidad al 40% del conjunto total de datos, ya que:\n",
    "\n",
    "$\\frac{x}{60\\%} = \\frac{2}{3} \\rightarrow x = \\frac{2}{3} * 60\\% \\rightarrow x = 40\\%$\n",
    "\n",
    "La ecuación previa hace referencia a que deseamos saber qué parte del 60% de algo equivale a $\\frac{2}{3}$ de ese algo, por lo cual, se despega la incógnita $x$ y después de realizar las operaciones aritméticas correspondientes, se obtiene que $x = 40\\%$, lo que significa que la proporción del $60\\%$ de algo que equivale a $\\frac{2}{3}$ de ese algo es igual al $40\\%$, lo cual es el porcentaje de datos del conjunto total de datos que será destinado al proceso de validación del modelo. \n",
    "\n",
    "Adicionalmente, dado que ya se obtuvo que $\\frac{2}{3}$ del subset de datos test_0 será destinado a la validación del modelo, el complemento de dicha proporción sabiendo que la totalidad del subset de datos se representa como 1 ($100\\%$), será igual a $\\frac{1}{3}$ o bien, ($1 - \\frac{2}{3}$), por lo cual se utilizará el $\\frac{1}{3}$ restante del subset test_0 para el proceso de prueba del modelo después de terminar la etapa de validación del mismo."
   ]
  },
  {
   "cell_type": "code",
   "execution_count": 7,
   "id": "10367d22",
   "metadata": {},
   "outputs": [],
   "source": [
    "# Realizar una 2da división del subconjunto de prueba inicial test_0 para formar posteriormente el subset de \n",
    "# validación y el subset de prueba definitivo\n",
    "\n",
    "c_validacion, c_test_real, v_validacion, v_test_real = train_test_split(test_0[\"Celsius\"], test_0[\"Valks\"], \n",
    "                                                                       train_size = 2/3, test_size = 1/3, \n",
    "                                                                       random_state = semilla)"
   ]
  },
  {
   "cell_type": "code",
   "execution_count": 8,
   "id": "e5d00886",
   "metadata": {},
   "outputs": [
    {
     "data": {
      "text/html": [
       "<div>\n",
       "<style scoped>\n",
       "    .dataframe tbody tr th:only-of-type {\n",
       "        vertical-align: middle;\n",
       "    }\n",
       "\n",
       "    .dataframe tbody tr th {\n",
       "        vertical-align: top;\n",
       "    }\n",
       "\n",
       "    .dataframe thead th {\n",
       "        text-align: right;\n",
       "    }\n",
       "</style>\n",
       "<table border=\"1\" class=\"dataframe\">\n",
       "  <thead>\n",
       "    <tr style=\"text-align: right;\">\n",
       "      <th></th>\n",
       "      <th>Celsius</th>\n",
       "      <th>Valks</th>\n",
       "    </tr>\n",
       "  </thead>\n",
       "  <tbody>\n",
       "    <tr>\n",
       "      <th>54</th>\n",
       "      <td>-8.1002</td>\n",
       "      <td>74.247</td>\n",
       "    </tr>\n",
       "    <tr>\n",
       "      <th>11</th>\n",
       "      <td>77.0590</td>\n",
       "      <td>-171.990</td>\n",
       "    </tr>\n",
       "    <tr>\n",
       "      <th>24</th>\n",
       "      <td>47.8740</td>\n",
       "      <td>-105.250</td>\n",
       "    </tr>\n",
       "    <tr>\n",
       "      <th>58</th>\n",
       "      <td>38.5270</td>\n",
       "      <td>-62.516</td>\n",
       "    </tr>\n",
       "    <tr>\n",
       "      <th>5</th>\n",
       "      <td>-10.2460</td>\n",
       "      <td>83.437</td>\n",
       "    </tr>\n",
       "  </tbody>\n",
       "</table>\n",
       "</div>"
      ],
      "text/plain": [
       "    Celsius    Valks\n",
       "54  -8.1002   74.247\n",
       "11  77.0590 -171.990\n",
       "24  47.8740 -105.250\n",
       "58  38.5270  -62.516\n",
       "5  -10.2460   83.437"
      ]
     },
     "execution_count": 8,
     "metadata": {},
     "output_type": "execute_result"
    }
   ],
   "source": [
    "# Formar un dataframe que corresponderá al subset de validación para el modelo\n",
    "\n",
    "# En esta ocasión, el diccionario pasado como argumento al dataframe tendrá las mismas claves, solamente que\n",
    "# los datos asociados a cada una de ellas ahora serán los destinados para validación del modelo definidos arriba\n",
    "\n",
    "validation = pd.DataFrame({\"Celsius\": c_validacion, \"Valks\": v_validacion})\n",
    "\n",
    "# Mostrar la correcta creación del subset de datos para validación \n",
    "\n",
    "validation.head()"
   ]
  },
  {
   "cell_type": "code",
   "execution_count": 9,
   "id": "5e53736c",
   "metadata": {},
   "outputs": [
    {
     "data": {
      "text/html": [
       "<div>\n",
       "<style scoped>\n",
       "    .dataframe tbody tr th:only-of-type {\n",
       "        vertical-align: middle;\n",
       "    }\n",
       "\n",
       "    .dataframe tbody tr th {\n",
       "        vertical-align: top;\n",
       "    }\n",
       "\n",
       "    .dataframe thead th {\n",
       "        text-align: right;\n",
       "    }\n",
       "</style>\n",
       "<table border=\"1\" class=\"dataframe\">\n",
       "  <thead>\n",
       "    <tr style=\"text-align: right;\">\n",
       "      <th></th>\n",
       "      <th>Celsius</th>\n",
       "      <th>Valks</th>\n",
       "    </tr>\n",
       "  </thead>\n",
       "  <tbody>\n",
       "    <tr>\n",
       "      <th>75</th>\n",
       "      <td>14.998</td>\n",
       "      <td>1.3718</td>\n",
       "    </tr>\n",
       "    <tr>\n",
       "      <th>19</th>\n",
       "      <td>75.949</td>\n",
       "      <td>-174.9200</td>\n",
       "    </tr>\n",
       "    <tr>\n",
       "      <th>51</th>\n",
       "      <td>47.970</td>\n",
       "      <td>-95.2580</td>\n",
       "    </tr>\n",
       "    <tr>\n",
       "      <th>4</th>\n",
       "      <td>43.236</td>\n",
       "      <td>-75.8350</td>\n",
       "    </tr>\n",
       "    <tr>\n",
       "      <th>84</th>\n",
       "      <td>71.719</td>\n",
       "      <td>-182.5700</td>\n",
       "    </tr>\n",
       "  </tbody>\n",
       "</table>\n",
       "</div>"
      ],
      "text/plain": [
       "    Celsius     Valks\n",
       "75   14.998    1.3718\n",
       "19   75.949 -174.9200\n",
       "51   47.970  -95.2580\n",
       "4    43.236  -75.8350\n",
       "84   71.719 -182.5700"
      ]
     },
     "execution_count": 9,
     "metadata": {},
     "output_type": "execute_result"
    }
   ],
   "source": [
    "# Ahora se procederá a crear el dataframe correspondiente al subset de prueba definitivo \n",
    "\n",
    "# Ahora el diccionario pasado al dataframe asocia cada una de sus claves con los datos en\n",
    "# celsius y en valks destinados específicamente para el test del modelo\n",
    "\n",
    "# Este subset de prueba ya es el definitivo\n",
    "\n",
    "test_definitivo = pd.DataFrame({\"Celsius\": c_test_real, \"Valks\": v_test_real})\n",
    "\n",
    "# Mostrar la correcta generación del subset de prueba definitivo\n",
    "\n",
    "test_definitivo.head()"
   ]
  },
  {
   "cell_type": "code",
   "execution_count": 10,
   "id": "3a1e9612",
   "metadata": {},
   "outputs": [
    {
     "name": "stdout",
     "output_type": "stream",
     "text": [
      "Cantidad de datos para entrenamiento: 40\n",
      "Cantidad de datos para prueba: 20\n",
      "Cantidad de datos para validación: 40\n"
     ]
    }
   ],
   "source": [
    "# Validar que sean 40 datos para entrenamiento (40% de 100 datos que tiene el conjunto total de datos)\n",
    "\n",
    "print(f'Cantidad de datos para entrenamiento: {datos_train.shape[0]}') \n",
    "\n",
    "# Validar que sean 20 datos para prueba (20% de 100 datos que tiene el conjunto total de datos)\n",
    "\n",
    "print(f'Cantidad de datos para prueba: {test_definitivo.shape[0]}')\n",
    "\n",
    "# Validar que sean 40 datos para validación (40% de 100 datos que tiene el conjunto total de datos)\n",
    "\n",
    "print(f'Cantidad de datos para validación: {validation.shape[0]}')"
   ]
  },
  {
   "cell_type": "markdown",
   "id": "dcd6584d",
   "metadata": {},
   "source": [
    "## Modelo base de tipo SGDRegressor "
   ]
  },
  {
   "cell_type": "code",
   "execution_count": 11,
   "id": "f75c2b81",
   "metadata": {},
   "outputs": [
    {
     "data": {
      "text/plain": [
       "SGDRegressor(eta0=0.0001, max_iter=1000000.0)"
      ]
     },
     "execution_count": 11,
     "metadata": {},
     "output_type": "execute_result"
    }
   ],
   "source": [
    "# Definir un modelo base de tipo SGDRegressor que tenga como parámetros: el error cuadrático como función de \n",
    "# pérdida o costo a usar, una tasa de aprendizaje (eta0) inicial de 1e-04 y que usa la semilla definida \n",
    "# inicialmente para obtener la misma salida del modelo al ejecutar el código varias veces\n",
    "\n",
    "modelo_base = SGDRegressor(loss = \"squared_error\", eta0 = 1e-04, max_iter = 1e+06, random_state = semilla)\n",
    "\n",
    "# Utilizar la función fit() aplicada sobre el modelo creado para entrenarlo usando el subset de entrenamiento\n",
    "\n",
    "modelo_base.fit(datos_train[\"Celsius\"].to_numpy().reshape(-1, 1), datos_train[\"Valks\"])"
   ]
  },
  {
   "cell_type": "markdown",
   "id": "eb00cb6d",
   "metadata": {},
   "source": [
    "## Cálcular el MSE (error cuadrático medio) para subset de entrenamiento, validación y prueba"
   ]
  },
  {
   "cell_type": "code",
   "execution_count": 12,
   "id": "2d01049b",
   "metadata": {},
   "outputs": [],
   "source": [
    "# Del módulo metrics perteneciente a la librería Scikit-Learn importar la función mean_squared_error para calcular el MSE\n",
    "# del modelo para cada subset de datos\n",
    "\n",
    "from sklearn.metrics import mean_squared_error"
   ]
  },
  {
   "cell_type": "markdown",
   "id": "e1b28629",
   "metadata": {},
   "source": [
    "### MSE para subset de entrenamiento"
   ]
  },
  {
   "cell_type": "code",
   "execution_count": 13,
   "id": "39ddd756",
   "metadata": {},
   "outputs": [
    {
     "name": "stdout",
     "output_type": "stream",
     "text": [
      "MSE para subconjunto de entrenamiento: 67.38446446496002\n"
     ]
    }
   ],
   "source": [
    "# Calcular los datos en Valks predichos para los datos en celsius del subset de entrenamiento\n",
    "# utilizando los coeficientes obtenidos durante el entrenamiento del modelo\n",
    "\n",
    "\"\"\"Nota: dado que el método fit() admite solamente arreglos de 2 dimensiones para el caso de la varible predictora, \n",
    "   se procede a convertir dicho arreglo 1D que contiene los valores de Celsius a un arreglo de numpy y posteriormente, \n",
    "   se reestructura dicho arreglo con el método reshape() para que sea un arreglo 2D, por lo cual, el nuevo arreglo 2D tiene\n",
    "   filas que son otros arreglos con 1 solo elemento, además de que el nuevo arreglo 2D también tiene\n",
    "   1 columna de datos, por lo tanto, la nueva forma de los datos de celsius es (40, 1) en vez de (40,), por lo cual, el nuevo\n",
    "   arreglo 2D ya puede ser aceptado por el método fit() para entrenar el modelo.\"\"\"\n",
    "\n",
    "train_predictions = modelo_base.predict(datos_train[\"Celsius\"].to_numpy().reshape(-1, 1))\n",
    "\n",
    "# Calcular el MSE para correspondiente al subset de entrenamiento del modelo\n",
    "\n",
    "# Se comparan los verdaderos datos de la variable de respuesta contra los datos predichos para dicha\n",
    "# variable \n",
    "\n",
    "MSE_train = mean_squared_error(datos_train[\"Valks\"], train_predictions)\n",
    "\n",
    "# Mostrar el valor del MSE para el subset de datos de entrenamiento\n",
    "\n",
    "print(f'MSE para subconjunto de entrenamiento: {MSE_train}')"
   ]
  },
  {
   "cell_type": "markdown",
   "id": "e9ba87c6",
   "metadata": {},
   "source": [
    "### MSE para subset de validación"
   ]
  },
  {
   "cell_type": "code",
   "execution_count": 14,
   "id": "3714ada2",
   "metadata": {},
   "outputs": [
    {
     "name": "stdout",
     "output_type": "stream",
     "text": [
      "MSE para subconjunto de validación: 83.03008756786551\n"
     ]
    }
   ],
   "source": [
    "# Calcular los datos en Valks predichos para los datos en celsius del subset de validación\n",
    "# mediante la función predict aplicada sobre los datos en celsius de dicho subset de datos\n",
    "\n",
    "validation_predictions = modelo_base.predict(validation[\"Celsius\"].to_numpy().reshape(-1, 1))\n",
    "\n",
    "# Calcular el MSE para correspondiente al subset de validación del modelo\n",
    "\n",
    "# Se comparan los verdaderos datos de la variable de respuesta contra los datos predichos para dicha\n",
    "# variable \n",
    "\n",
    "MSE_validation = mean_squared_error(validation[\"Valks\"], validation_predictions)\n",
    "\n",
    "# Mostrar el valor del MSE para el subset de datos de validación\n",
    "\n",
    "print(f'MSE para subconjunto de validación: {MSE_validation}')"
   ]
  },
  {
   "cell_type": "markdown",
   "id": "32380032",
   "metadata": {},
   "source": [
    "### MSE para subset de prueba"
   ]
  },
  {
   "cell_type": "code",
   "execution_count": 15,
   "id": "2350eef1",
   "metadata": {},
   "outputs": [
    {
     "name": "stdout",
     "output_type": "stream",
     "text": [
      "MSE para subconjunto de prueba: 84.886937960482\n"
     ]
    }
   ],
   "source": [
    "# Calcular los datos en Valks predichos para los datos en celsius del subset de prueba\n",
    "# mediante la función predict aplicada sobre los datos en celsius de dicho subset de datos\n",
    "\n",
    "test_predictions = modelo_base.predict(test_definitivo[\"Celsius\"].to_numpy().reshape(-1, 1))\n",
    "\n",
    "# Calcular el MSE para correspondiente al subset de prueba del modelo\n",
    "\n",
    "# Se comparan los verdaderos datos de la variable de respuesta contra los datos predichos para dicha\n",
    "# variable \n",
    "\n",
    "MSE_test = mean_squared_error(test_definitivo[\"Valks\"], test_predictions)\n",
    "\n",
    "# Mostrar el valor del MSE para el subset de datos de prueba\n",
    "\n",
    "print(f'MSE para subconjunto de prueba: {MSE_test}')"
   ]
  },
  {
   "cell_type": "markdown",
   "id": "40a6d1f9",
   "metadata": {},
   "source": [
    "## Gráfica de subsets de entrenamiento, validación, prueba y modelo obtenido"
   ]
  },
  {
   "cell_type": "code",
   "execution_count": 16,
   "id": "8edeb6a4",
   "metadata": {},
   "outputs": [
    {
     "data": {
      "image/png": "[encoded data removed]",
      "text/plain": [
       "<Figure size 432x288 with 1 Axes>"
      ]
     },
     "metadata": {
      "needs_background": "light"
     },
     "output_type": "display_data"
    }
   ],
   "source": [
    "# Graficar en un gráfico de dispersión los datos reales del subset de entrenamiento (Celsius vs Valks)\n",
    "\n",
    "plt.scatter(datos_train[\"Celsius\"], datos_train[\"Valks\"], color = \"blue\", label = \"Reales train\")\n",
    "\n",
    "# Graficar en el mismo gráfico la tendencia de las predicciones de entrenamiento con una recta que pase por ellas\n",
    "\n",
    "plt.plot(datos_train[\"Celsius\"], train_predictions, color = \"red\", linewidth = 2, label = \"Predicciones train\")\n",
    "\n",
    "# Graficar en el mismo gráfico de dispersión los datos reales del subset de validación (Celsius vs Valks)\n",
    "\n",
    "plt.scatter(validation[\"Celsius\"], validation[\"Valks\"], color = \"purple\", label = \"Reales validación\")\n",
    "\n",
    "# Graficar en el mismo gráfico la tendencia de las predicciones de validación con una recta que pase por ellas\n",
    "\n",
    "plt.plot(validation[\"Celsius\"], validation_predictions, color = \"yellow\", linewidth = 2, label = \"Predicciones validación\")\n",
    "\n",
    "# Graficar en el mismo gráfico de dispersión los datos reales del subset de prueba (Celsius vs Valks)\n",
    "\n",
    "plt.scatter(test_definitivo[\"Celsius\"], test_definitivo[\"Valks\"], color = \"green\", label = \"Reales test\")\n",
    "\n",
    "# Graficar en el mismo gráfico la tendencia de las predicciones de prueba con una recta que pase por ellas\n",
    "\n",
    "plt.plot(test_definitivo[\"Celsius\"], test_predictions, color = \"orange\", linewidth = 2, label = \"Predicciones test\")\n",
    "\n",
    "# Graficar grados celsius en el eje horizontal\n",
    "\n",
    "plt.xlabel(\"Celsius\") \n",
    "\n",
    "# Graficar grados Valks en el eje vertical\n",
    "\n",
    "plt.ylabel(\"Valks\") \n",
    "\n",
    "# Título del gráfico\n",
    "\n",
    "plt.title(\"Celsius vs Valks: train, validation, test\")\n",
    "\n",
    "# Agregar leyenda al gráfico\n",
    "\n",
    "plt.legend()\n",
    "\n",
    "# Mostrar gráfico con los datos de los 3 subsets y sus modelos obtenidos\n",
    "\n",
    "plt.show() \n"
   ]
  },
  {
   "cell_type": "markdown",
   "id": "04f0458a",
   "metadata": {},
   "source": [
    "## Creación de instancias para el análisis"
   ]
  },
  {
   "cell_type": "code",
   "execution_count": 17,
   "id": "0668afb2",
   "metadata": {},
   "outputs": [
    {
     "data": {
      "text/plain": [
       "[2, 33, 26, 21, 39, 14, 28, 30, 13, 16, 6, 31, 38, 15, 12, 9, 29, 17, 27, 4]"
      ]
     },
     "execution_count": 17,
     "metadata": {},
     "output_type": "execute_result"
    }
   ],
   "source": [
    "# Crear una lista de 19 números enteros comprendidos entre 3 y 39, sin repetición\n",
    "\n",
    "# Nota: la lista de enteros ya incluirá al 2\n",
    "\n",
    "instancias_analisis = [2] + rnd.sample(range(3, 40), 19)\n",
    "\n",
    "# Mostrar las instancias (enteros aleatorios del 2 al 39 sin reemplazo e incluyendo al 2) a usar para el análsis\n",
    "\n",
    "instancias_analisis"
   ]
  },
  {
   "cell_type": "code",
   "execution_count": 18,
   "id": "9c337fa3",
   "metadata": {},
   "outputs": [
    {
     "data": {
      "text/plain": [
       "2     1\n",
       "33    1\n",
       "27    1\n",
       "17    1\n",
       "29    1\n",
       "9     1\n",
       "12    1\n",
       "15    1\n",
       "38    1\n",
       "31    1\n",
       "6     1\n",
       "16    1\n",
       "13    1\n",
       "30    1\n",
       "28    1\n",
       "14    1\n",
       "39    1\n",
       "21    1\n",
       "26    1\n",
       "4     1\n",
       "dtype: int64"
      ]
     },
     "execution_count": 18,
     "metadata": {},
     "output_type": "execute_result"
    }
   ],
   "source": [
    "# Validar que cada entero de la lista anterior tenga una frecuencia absoluta igual a 1, es decir que \n",
    "# solamente aparezca una vez en la lista y que no haya ningún elemento repetido en ella\n",
    "\n",
    "# Convertimos la lista en serie para poder aplicar el método value_counts() para contar la frecuencia de cada\n",
    "# elemento dentro de la misma\n",
    "\n",
    "pd.Series(instancias_analisis).value_counts()"
   ]
  },
  {
   "cell_type": "markdown",
   "id": "ff2ed3da",
   "metadata": {},
   "source": [
    "## 100 modelos entrenados por tamaño de muestra"
   ]
  },
  {
   "cell_type": "code",
   "execution_count": 19,
   "id": "c60a8af0",
   "metadata": {},
   "outputs": [],
   "source": [
    "# Crear una lista vacía que será la lista principal que contenga a los 20 grupos de 100 modelos cada uno\n",
    "\n",
    "totalidad_modelos = []\n",
    "\n",
    "# Ciclo for externo para iterar sobre cada tamaño de muestra y entrenar 100 modelos en base al mismo\n",
    "\n",
    "for tamano_muestra in instancias_analisis:\n",
    "    \n",
    "    # Crear lista vacía para almacenar los 100 modelos entrenados con un cierto tamaño muestral\n",
    "    \n",
    "    grupo_modelos = []\n",
    "    \n",
    "    # ciclo for interno para crear y entrenar 100 modelos con un subconjunto aleatorio del\n",
    "    # subset de entrenamiento de tamaño igual al valor de la variable del ciclo externo\n",
    "    # tamano_muestra\n",
    "    \n",
    "    for i in range(100):\n",
    "        \n",
    "        # Extraer subconjunto aleatorio del subset de entrenamiento para entrenar cada modelo\n",
    "        # el subconjunto será de tamaño igual a tamano_muestra\n",
    "        \n",
    "        # Aplicar método sample sobre el subset de entrenamiento para extraer la muestra aleatoria\n",
    "        # del tamaño especificado y axis = 0 para indicar que se deben muestrear las filas\n",
    "        # del subset de entrenamiento\n",
    "        \n",
    "        model_training = datos_train.sample(tamano_muestra, axis = 0)\n",
    "        \n",
    "        # Definir nuevo modelo de regresión con máximo de 500,000 iteraciones y una tasa de aprendizaje\n",
    "        # inicial de 0.0001 \n",
    "        \n",
    "        new_model = SGDRegressor(max_iter = 500000, eta0 = 0.0001)\n",
    "        \n",
    "        # Entrenar el nuevo modelo generado con el subconjunto aleatorio definido previamente\n",
    "        \n",
    "        new_model.fit(model_training[\"Celsius\"].to_numpy().reshape(-1, 1), model_training[\"Valks\"])\n",
    "        \n",
    "        # Agregar el nuevo modelo entrenado a la lista de modelos definida como grupo_modelos\n",
    "        \n",
    "        grupo_modelos.append(new_model)\n",
    "        \n",
    "    # Agregar el grupo de 100 modelos entrenados grupo_modelos a la lista global de grupos de modelos, junto\n",
    "    # con el tamaño de muestra con el que los modelos del grupo fueron entrenados\n",
    "    \n",
    "    totalidad_modelos.append([grupo_modelos])\n",
    " "
   ]
  },
  {
   "cell_type": "markdown",
   "id": "92ea5faa",
   "metadata": {},
   "source": [
    "## MSE por modelo en el subconjunto de entrenamiento y validación"
   ]
  },
  {
   "cell_type": "code",
   "execution_count": 42,
   "id": "445ead57",
   "metadata": {
    "scrolled": true
   },
   "outputs": [],
   "source": [
    "\"\"\"Para llevar a cabo esta parte del análisis, se creará una estructura de datos principal de la forma:\n",
    "\n",
    "   [[[MSE_train1, MSE_validation1], [MSE_train2, MSE_validation2], ...], [([], [], ...], [[], [], ...], ...]\n",
    "   \n",
    "   En la estructura mencionada, la lista externa contendrá 20 listas principales correspondientes a un grupo de 100\n",
    "   modelos entrenados cada una, por lo que cada una de las 20 listas principales contendrá 100 tuplas internas, mismas\n",
    "   que contendrán a su vez 2 valores cada una: el MSE en el subconjunto de entrenamiento para un cierto modelo y \n",
    "   el MSE en el subconjunto de validación para dicho modelo \"\"\"\n",
    "\n",
    "# Crear una lista vacía para almacenar las 20 tuplas principales correspondientes a cada grupo de 100 modelos\n",
    "\n",
    "lista_global_errores = []\n",
    "\n",
    "# Ciclo for para iterar sobre cada uno de los 20 grupos de 100 modelos entrenados\n",
    "\n",
    "for n_grupo in range(len(totalidad_modelos)):\n",
    "    \n",
    "    # Crear lista vacía para almacenar otras 100 tuplas que contendrán cada una el MSE \n",
    "    # de un modelo del grupo en el subconjunto de entrenamiento y en el de validación\n",
    "    \n",
    "    model_group = []\n",
    "    \n",
    "    # Ciclo for interno para iterar sobre cada uno de los 20 grupos de 100 modelos entrenados\n",
    "    \n",
    "    for grupo in totalidad_modelos[n_grupo]:\n",
    "        \n",
    "        # Segundo ciclo for interno para iterar sobre cada uno de los 100 modelos del grupo elegido\n",
    "        # en el ciclo interno previo\n",
    "        \n",
    "        for n_model in range(len(grupo)):\n",
    "            \n",
    "            # Elegir un modelo del grupo de 100 modelos y predecir los datos en Valks a partir de él\n",
    "            # utilizando los datos en celsius del subconjunto de entrenamiento\n",
    "            \n",
    "            # Convertir datos en celsius a un array de numpy y cambiar su forma para que sea una \n",
    "            # estructura de datos bidimensional (2D)\n",
    "            \n",
    "            # Calcular las predicciones en valks usando el modelo seleccionado del grupo a partir del\n",
    "            # subconjunto de entrenamiento con un número cambiante de muestras\n",
    "            \n",
    "            pred_selected = grupo[n_model].predict(model_training[\"Celsius\"].to_numpy().reshape(-1, 1))\n",
    "            \n",
    "            # Calcular las predicciones en valks usando el modelo seleccionado del grupo a partir del\n",
    "            # subconjunto de validación\n",
    "            \n",
    "            pred_selected_val = grupo[n_model].predict(validation[\"Celsius\"].to_numpy().reshape(-1, 1))\n",
    "            \n",
    "            # Calcular el valor del MSE para dicho modelo en el subconjunto de entrenamiento de\n",
    "            # tamaño variable y en el conjunto de validación\n",
    "            \n",
    "            MSE_errors_model = [mean_squared_error(model_training[\"Valks\"], pred_selected), #MSE en el subconjunto de train\n",
    "                                mean_squared_error(validation[\"Valks\"], pred_selected_val)] #MSE en el subconjunto de validación\n",
    "            \n",
    "            # Agregar la lista con los errores calculados a la lista model_group donde se almacenan\n",
    "            # las tuplas con los errores calculados para cada uno de los 100 modelos del grupo\n",
    "            \n",
    "            model_group.append(MSE_errors_model)\n",
    "        \n",
    "        # Agregar el grupo de listas model_group a la lista principal par almancenar los grupos de tuplas\n",
    "        # llamada lista_global_errores\n",
    "        \n",
    "        lista_global_errores.append(model_group)\n"
   ]
  },
  {
   "cell_type": "markdown",
   "id": "f1b8f53b",
   "metadata": {},
   "source": [
    "## Promedio de las 100 repeticiones para cada modelo y sus errores"
   ]
  },
  {
   "cell_type": "code",
   "execution_count": 43,
   "id": "faa228e6",
   "metadata": {},
   "outputs": [
    {
     "data": {
      "text/html": [
       "<div>\n",
       "<style scoped>\n",
       "    .dataframe tbody tr th:only-of-type {\n",
       "        vertical-align: middle;\n",
       "    }\n",
       "\n",
       "    .dataframe tbody tr th {\n",
       "        vertical-align: top;\n",
       "    }\n",
       "\n",
       "    .dataframe thead th {\n",
       "        text-align: right;\n",
       "    }\n",
       "</style>\n",
       "<table border=\"1\" class=\"dataframe\">\n",
       "  <thead>\n",
       "    <tr style=\"text-align: right;\">\n",
       "      <th></th>\n",
       "      <th>AVG_MSE_train</th>\n",
       "      <th>AVG_MSE_validation</th>\n",
       "    </tr>\n",
       "  </thead>\n",
       "  <tbody>\n",
       "    <tr>\n",
       "      <th>0</th>\n",
       "      <td>1661.285305</td>\n",
       "      <td>4625.873489</td>\n",
       "    </tr>\n",
       "    <tr>\n",
       "      <th>1</th>\n",
       "      <td>1633.137516</td>\n",
       "      <td>820.258826</td>\n",
       "    </tr>\n",
       "    <tr>\n",
       "      <th>2</th>\n",
       "      <td>1388.072783</td>\n",
       "      <td>705.524639</td>\n",
       "    </tr>\n",
       "    <tr>\n",
       "      <th>3</th>\n",
       "      <td>1199.756550</td>\n",
       "      <td>619.503245</td>\n",
       "    </tr>\n",
       "    <tr>\n",
       "      <th>4</th>\n",
       "      <td>1347.149126</td>\n",
       "      <td>685.629725</td>\n",
       "    </tr>\n",
       "    <tr>\n",
       "      <th>5</th>\n",
       "      <td>1008.173482</td>\n",
       "      <td>529.157940</td>\n",
       "    </tr>\n",
       "    <tr>\n",
       "      <th>6</th>\n",
       "      <td>1569.605220</td>\n",
       "      <td>791.280363</td>\n",
       "    </tr>\n",
       "    <tr>\n",
       "      <th>7</th>\n",
       "      <td>1505.437510</td>\n",
       "      <td>761.382612</td>\n",
       "    </tr>\n",
       "    <tr>\n",
       "      <th>8</th>\n",
       "      <td>836.759384</td>\n",
       "      <td>449.868253</td>\n",
       "    </tr>\n",
       "    <tr>\n",
       "      <th>9</th>\n",
       "      <td>1037.932302</td>\n",
       "      <td>544.480994</td>\n",
       "    </tr>\n",
       "    <tr>\n",
       "      <th>10</th>\n",
       "      <td>318.554061</td>\n",
       "      <td>211.160784</td>\n",
       "    </tr>\n",
       "    <tr>\n",
       "      <th>11</th>\n",
       "      <td>1488.226530</td>\n",
       "      <td>753.886581</td>\n",
       "    </tr>\n",
       "    <tr>\n",
       "      <th>12</th>\n",
       "      <td>1403.939832</td>\n",
       "      <td>712.563866</td>\n",
       "    </tr>\n",
       "    <tr>\n",
       "      <th>13</th>\n",
       "      <td>1214.708258</td>\n",
       "      <td>627.024068</td>\n",
       "    </tr>\n",
       "    <tr>\n",
       "      <th>14</th>\n",
       "      <td>835.799498</td>\n",
       "      <td>452.199548</td>\n",
       "    </tr>\n",
       "    <tr>\n",
       "      <th>15</th>\n",
       "      <td>665.547048</td>\n",
       "      <td>375.586856</td>\n",
       "    </tr>\n",
       "    <tr>\n",
       "      <th>16</th>\n",
       "      <td>1451.502599</td>\n",
       "      <td>735.238673</td>\n",
       "    </tr>\n",
       "    <tr>\n",
       "      <th>17</th>\n",
       "      <td>1090.984305</td>\n",
       "      <td>567.668059</td>\n",
       "    </tr>\n",
       "    <tr>\n",
       "      <th>18</th>\n",
       "      <td>1228.052507</td>\n",
       "      <td>630.388616</td>\n",
       "    </tr>\n",
       "    <tr>\n",
       "      <th>19</th>\n",
       "      <td>446.098632</td>\n",
       "      <td>596.965655</td>\n",
       "    </tr>\n",
       "  </tbody>\n",
       "</table>\n",
       "</div>"
      ],
      "text/plain": [
       "    AVG_MSE_train  AVG_MSE_validation\n",
       "0     1661.285305         4625.873489\n",
       "1     1633.137516          820.258826\n",
       "2     1388.072783          705.524639\n",
       "3     1199.756550          619.503245\n",
       "4     1347.149126          685.629725\n",
       "5     1008.173482          529.157940\n",
       "6     1569.605220          791.280363\n",
       "7     1505.437510          761.382612\n",
       "8      836.759384          449.868253\n",
       "9     1037.932302          544.480994\n",
       "10     318.554061          211.160784\n",
       "11    1488.226530          753.886581\n",
       "12    1403.939832          712.563866\n",
       "13    1214.708258          627.024068\n",
       "14     835.799498          452.199548\n",
       "15     665.547048          375.586856\n",
       "16    1451.502599          735.238673\n",
       "17    1090.984305          567.668059\n",
       "18    1228.052507          630.388616\n",
       "19     446.098632          596.965655"
      ]
     },
     "execution_count": 43,
     "metadata": {},
     "output_type": "execute_result"
    }
   ],
   "source": [
    "# Generar una lista vacía para almacenar los errores MSE en el subconjunto de entrenamiento de muestras\n",
    "# cambiantes para cada uno de los 20 grupos de 100 modelos entrenados \n",
    "\n",
    "MSE_train_model_groups = [] \n",
    "\n",
    "# Generar una lista vacía para almacenar los errores MSE en el subconjunto de validación \n",
    "# para cada uno de los 20 grupos de 100 modelos entrenados \n",
    "\n",
    "MSE_val_model_groups = [] \n",
    "\n",
    "# Ciclo for para iterar sobre cada uno de los 20 grupos de 100 modelos (2000 modelos en total)\n",
    "\n",
    "for group_index in range(len(totalidad_modelos)):\n",
    "    \n",
    "    # Definir los datos de los errores MSE para el grupo de modelos elegido\n",
    "    \n",
    "    data_group = pd.DataFrame(lista_global_errores[group_index], columns = [\"MSE_train\", \"MSE_validation\"])\n",
    "    \n",
    "    # Calcular el error MSE promedio del grupo de modelos en cuestión a partir del subconjunto de \n",
    "    # entrenamiento de muestras cambiantes\n",
    "    \n",
    "    AVG_MSE_train = data_group[\"MSE_train\"].mean()\n",
    "    \n",
    "    # Calcular el error MSE promedio del grupo de modelos en cuestión a partir del subconjunto de \n",
    "    # vlidación\n",
    "    \n",
    "    AVG_MSE_validation = data_group[\"MSE_validation\"].mean()\n",
    "    \n",
    "    # Agregar el MSE promedio del grupo de modelos a partir del subconjunto de entrenamiento de muestras\n",
    "    # cambiantes a la lista para los errores MSE a partir del subconjunto de entrenamiento variable \n",
    "    # de los grupos de modelos (MSE_train_model_groups)\n",
    "    \n",
    "    MSE_train_model_groups.append(AVG_MSE_train)\n",
    "    \n",
    "    # Agregar el MSE promedio del grupo de modelos a partir del subconjunto de validación\n",
    "    # a la lista para los errores MSE a partir del subconjunto de validación \n",
    "    # de los grupos de modelos (MSE_val_model_groups)\n",
    "    \n",
    "    MSE_val_model_groups.append(AVG_MSE_validation)\n",
    "    \n",
    "    # Eliminar la variable data_group para que en la próxima iteración, se asigne un nuevo conjunto de\n",
    "    # datos (errores) que corresponderán al próximo grupo elegido de modelos\n",
    "    \n",
    "    del data_group\n",
    "    \n",
    "# Generar un dataframe para almacenar la información referente al error MSE promedio tanto en el \n",
    "# subconjunto de entrenamiento de muestras cambiantes como en el subconjunto de validación, para\n",
    "# cada grupo de 100 modelos\n",
    "\n",
    "df_MSE = pd.DataFrame({\"AVG_MSE_train\": MSE_train_model_groups, \"AVG_MSE_validation\": MSE_val_model_groups})\n",
    "\n",
    "# Mostrar los primeros registros de los MSE promedio para los grupos de modelos\n",
    "\n",
    "df_MSE\n"
   ]
  },
  {
   "cell_type": "code",
   "execution_count": 44,
   "id": "72c20b4a",
   "metadata": {},
   "outputs": [
    {
     "data": {
      "text/html": [
       "<div>\n",
       "<style scoped>\n",
       "    .dataframe tbody tr th:only-of-type {\n",
       "        vertical-align: middle;\n",
       "    }\n",
       "\n",
       "    .dataframe tbody tr th {\n",
       "        vertical-align: top;\n",
       "    }\n",
       "\n",
       "    .dataframe thead th {\n",
       "        text-align: right;\n",
       "    }\n",
       "</style>\n",
       "<table border=\"1\" class=\"dataframe\">\n",
       "  <thead>\n",
       "    <tr style=\"text-align: right;\">\n",
       "      <th></th>\n",
       "      <th>AVG_MSE_train</th>\n",
       "      <th>AVG_MSE_validation</th>\n",
       "    </tr>\n",
       "  </thead>\n",
       "  <tbody>\n",
       "    <tr>\n",
       "      <th>0</th>\n",
       "      <td>1661.285305</td>\n",
       "      <td>4625.873489</td>\n",
       "    </tr>\n",
       "    <tr>\n",
       "      <th>1</th>\n",
       "      <td>1633.137516</td>\n",
       "      <td>820.258826</td>\n",
       "    </tr>\n",
       "    <tr>\n",
       "      <th>2</th>\n",
       "      <td>1388.072783</td>\n",
       "      <td>705.524639</td>\n",
       "    </tr>\n",
       "    <tr>\n",
       "      <th>3</th>\n",
       "      <td>1199.756550</td>\n",
       "      <td>619.503245</td>\n",
       "    </tr>\n",
       "    <tr>\n",
       "      <th>4</th>\n",
       "      <td>1347.149126</td>\n",
       "      <td>685.629725</td>\n",
       "    </tr>\n",
       "    <tr>\n",
       "      <th>5</th>\n",
       "      <td>1008.173482</td>\n",
       "      <td>529.157940</td>\n",
       "    </tr>\n",
       "    <tr>\n",
       "      <th>6</th>\n",
       "      <td>1569.605220</td>\n",
       "      <td>791.280363</td>\n",
       "    </tr>\n",
       "    <tr>\n",
       "      <th>7</th>\n",
       "      <td>1505.437510</td>\n",
       "      <td>761.382612</td>\n",
       "    </tr>\n",
       "    <tr>\n",
       "      <th>8</th>\n",
       "      <td>836.759384</td>\n",
       "      <td>449.868253</td>\n",
       "    </tr>\n",
       "    <tr>\n",
       "      <th>9</th>\n",
       "      <td>1037.932302</td>\n",
       "      <td>544.480994</td>\n",
       "    </tr>\n",
       "    <tr>\n",
       "      <th>10</th>\n",
       "      <td>318.554061</td>\n",
       "      <td>211.160784</td>\n",
       "    </tr>\n",
       "    <tr>\n",
       "      <th>11</th>\n",
       "      <td>1488.226530</td>\n",
       "      <td>753.886581</td>\n",
       "    </tr>\n",
       "    <tr>\n",
       "      <th>12</th>\n",
       "      <td>1403.939832</td>\n",
       "      <td>712.563866</td>\n",
       "    </tr>\n",
       "    <tr>\n",
       "      <th>13</th>\n",
       "      <td>1214.708258</td>\n",
       "      <td>627.024068</td>\n",
       "    </tr>\n",
       "    <tr>\n",
       "      <th>14</th>\n",
       "      <td>835.799498</td>\n",
       "      <td>452.199548</td>\n",
       "    </tr>\n",
       "    <tr>\n",
       "      <th>15</th>\n",
       "      <td>665.547048</td>\n",
       "      <td>375.586856</td>\n",
       "    </tr>\n",
       "    <tr>\n",
       "      <th>16</th>\n",
       "      <td>1451.502599</td>\n",
       "      <td>735.238673</td>\n",
       "    </tr>\n",
       "    <tr>\n",
       "      <th>17</th>\n",
       "      <td>1090.984305</td>\n",
       "      <td>567.668059</td>\n",
       "    </tr>\n",
       "    <tr>\n",
       "      <th>18</th>\n",
       "      <td>1228.052507</td>\n",
       "      <td>630.388616</td>\n",
       "    </tr>\n",
       "    <tr>\n",
       "      <th>19</th>\n",
       "      <td>446.098632</td>\n",
       "      <td>596.965655</td>\n",
       "    </tr>\n",
       "    <tr>\n",
       "      <th>20</th>\n",
       "      <td>83.030088</td>\n",
       "      <td>67.384464</td>\n",
       "    </tr>\n",
       "  </tbody>\n",
       "</table>\n",
       "</div>"
      ],
      "text/plain": [
       "    AVG_MSE_train  AVG_MSE_validation\n",
       "0     1661.285305         4625.873489\n",
       "1     1633.137516          820.258826\n",
       "2     1388.072783          705.524639\n",
       "3     1199.756550          619.503245\n",
       "4     1347.149126          685.629725\n",
       "5     1008.173482          529.157940\n",
       "6     1569.605220          791.280363\n",
       "7     1505.437510          761.382612\n",
       "8      836.759384          449.868253\n",
       "9     1037.932302          544.480994\n",
       "10     318.554061          211.160784\n",
       "11    1488.226530          753.886581\n",
       "12    1403.939832          712.563866\n",
       "13    1214.708258          627.024068\n",
       "14     835.799498          452.199548\n",
       "15     665.547048          375.586856\n",
       "16    1451.502599          735.238673\n",
       "17    1090.984305          567.668059\n",
       "18    1228.052507          630.388616\n",
       "19     446.098632          596.965655\n",
       "20      83.030088           67.384464"
      ]
     },
     "execution_count": 44,
     "metadata": {},
     "output_type": "execute_result"
    }
   ],
   "source": [
    "# Agregar a las listas previas, los errores de entrenamiento y validación de la línea base, es decir, \n",
    "# errores para entrenamiento y validación correspondientes al modelo base entrenado con 40 muestras\n",
    "\n",
    "errores_base = pd.DataFrame(np.array([MSE_validation, MSE_train]).reshape(1, 2), \n",
    "                            columns = [\"AVG_MSE_train\", \"AVG_MSE_validation\"])\n",
    "\n",
    "# Agregar la nueva fila definida como dataframe al dataframe con 20 registros previo\n",
    "\n",
    "df_MSE = pd.concat([df_MSE, errores_base], axis = 0, ignore_index = True)\n",
    "\n",
    "# Mostrar dataframe de errores MSE promedio con el nuevo registro (errores del modelo base)\n",
    "\n",
    "df_MSE\n"
   ]
  },
  {
   "cell_type": "markdown",
   "id": "dff041e3",
   "metadata": {},
   "source": [
    "**Nota:** el registro 20 del dataframe anterior representa los errores de entrenamiento y validación del modelo base entrenado inicialmente con 40 muestras."
   ]
  },
  {
   "cell_type": "markdown",
   "id": "aaadfd52",
   "metadata": {},
   "source": [
    "## Gráfica de evolución del error promedio de entrenamiento y validación por tamaño de entrenamiento"
   ]
  },
  {
   "cell_type": "code",
   "execution_count": 45,
   "id": "eae05fce",
   "metadata": {},
   "outputs": [
    {
     "data": {
      "image/png": "[encoded data removed]",
      "text/plain": [
       "<Figure size 432x288 with 1 Axes>"
      ]
     },
     "metadata": {
      "needs_background": "light"
     },
     "output_type": "display_data"
    }
   ],
   "source": [
    "# Graficar los tamaños de muestra para entrenamiento contra los errores promedio derivados del subconjunto de entrenamiento\n",
    "\n",
    "plt.scatter(instancias_analisis + [40], df_MSE[\"AVG_MSE_train\"], color = \"red\")\n",
    "\n",
    "plt.plot(instancias_analisis + [40], df_MSE[\"AVG_MSE_train\"], color = \"red\", label = \"Evolución en training\", \n",
    "        linewidth = 2)\n",
    "\n",
    "# Graficar los tamaños de muestra para entrenamiento contra los errores promedio derivados del subconjunto de validación\n",
    "\n",
    "plt.scatter(instancias_analisis + [40], df_MSE[\"AVG_MSE_validation\"], color = \"green\")\n",
    "\n",
    "plt.plot(instancias_analisis + [40], df_MSE[\"AVG_MSE_validation\"], color = \"green\", label = \"Evolución en validación\", \n",
    "        linewidth = 2)\n",
    "\n",
    "# Nombre del eje horizontal (x)\n",
    "\n",
    "plt.xlabel(\"Tamaño de muestra para training\")\n",
    "\n",
    "# Nombre del eje vertical (y)\n",
    "\n",
    "plt.ylabel(\"Error promedio\")\n",
    "\n",
    "# Título del gráfico\n",
    "\n",
    "plt.title(\"Evolución del error promedio en training y validación\")\n",
    "\n",
    "# Agregar una leyenda al gráfico\n",
    "\n",
    "plt.legend()\n",
    "\n",
    "# Mostrar el gráfico elaborado\n",
    "\n",
    "plt.show()\n"
   ]
  },
  {
   "cell_type": "markdown",
   "id": "5b7115b5",
   "metadata": {},
   "source": [
    "## Interpretación del gráfico de tamaño muestral vs error promedio"
   ]
  },
  {
   "cell_type": "markdown",
   "id": "dd147cc3",
   "metadata": {},
   "source": [
    "En términos generales, en cuanto a la gráfica previa, es posible observar que para el modelo entrenado con el mínimo tamaño \n",
    "de muestra de entrenamiento posible (2 muestras), el gráfico muestra que para ese tamaño muestral, el grado de error promedio tanto del entrenamiento como de la validación del modelo es muy elevado, dado que en este caso particular, el error promedio para el entrenamiento fue ligeramente inferior a 2000, mientras que de forma similar, el error promedio correspondiente a la validación fue superior a 4000, motivo por el cual, al entrenar un modelo con solamente 2 muestras de datos, se tienen errores promedio muy altos, lo cual indica que el modelo en cuestión no se ajusta adecuadamente a los datos, lo cual se encuentra respaldado por el hecho de que los modelos entrenados con muestras de tamaño 2, presentaron un MSE promedio de 1661.28 en el conjunto de entrenamiento, además de un MSE promedio de 4625.87 en el conjunto de validación, lo cual pone de manifiesto que los modelos entrenados con una muestra de tamaño 2 presentan un tipo de ajuste denominado como subajuste (underfitting), esto principalmente debido a que al entrenar los modelos con una cantidad de muestras bastante reducida, dichos modelos no serán capaces de aprender correctamente los patrones detrás de dichos datos, ya que es necesaria una mayor cantidad de éstos para que pueda surgir algún patrón o tendencia claramente definido, además de lo anterior, también cabe mencionar que debido al hecho de que los modelos entrenados con muestras de tamaño 2 tienen valores de MSE muy elevados, se afirma que existe un grado de sesgo alto en dichos modelos, dado que las diferencias entre los valores reales que intentaron predecir y los que finalmente predijeron, son significativamente grandes, por lo que lo anterior referente a tener un sesgo alto señala que los modelos en cuestión no representan con suficiente precisión aquellos datos reales que se intentan predecir, por lo tanto, no son buenos ajustes para los datos reales que son el objetivo central de las predicciones (aproximar lo máximo posible las predicciones a los datos reales), sin embargo, otro criterio para determinar si los modelos constituyen un buen ajuste para los datos reales es por medio del análisis de la varianza de los mismos, por lo cual, en caso de que la varianza sea muy grande, significará que nuevamente las diferencias entre datos reales y predicciones serán muy altas y por tanto el modelo no será preciso y como consecuencia también sus predicciones no serán confiables, por lo que teniendo esto en cuenta, para el caso particular de los modelos entrenados con muestras de tamaño 2, en el gráfico previo se puede apreciar que para dichos modelos en específico, el MSE promedio en el subconjunto de entrenamiento fue ligeramente inferior a 2000, mientras que su MSE promedio en el subconjunto de validación fue mayor a 4000, por lo cual se observa una diferencia mayormente significativa entre ambos errores promedio, lo cual indica a su vez que los modelos en cuestión (entrenados con muestras de tamaño 2), como ya se mencionó anteriormente, tienen un alto grado de sesgo, lo cual implica a su vez que los modelos en cuestión entrenados con muestras de tamaño 2, tienen un grado de varianza bajo, lo cual a su vez implica que en el modelo en cuestión, el valor de la variable de respuesta (grados en valks) tiene una baja sensibilidad a cambios en los datos de la variable predictora (grados en celsius), por lo tanto, eso significa que las predicciones del modelo tendrá valores mayormente cercanos entre sí, pero dichas predicciones no representarán de forma confiable los datos reales que se tratan de predecir, por lo cual, conisderando todo lo anterior, se afirma que en efecto, dichos modelos presentan subajuste (underfitting) como se mencionó previamente, provocando a su vez altos errores de predicción y una confiabilidad prácticamente nula de sus predicciones. \n",
    "\n",
    "Por otra parte, también es importante mencionar que respecto al modelo entrenado con 40 muestras, en la gráfica anterior se puede observar que cuando el tamaño de las muestras de entrenamiento es igual a 40, el error MSE promedio en el subconjunto de entrenamiento adopta un valor de 83.03, lo cual es significativamente menor que el MSE promedio para el entrenamiento del modelo entrenado con 2 muestras, mientras que por otro lado, el error MSE promedio en el subconjunto de validación para el modelo entrenado con 40 muestras tiene un valor de 67.38, lo cual resulta ser considerablemente menor que el MSE promedio en el subconjunto de validación para los modelos entrenados con 2 muestras (tamaño muestral mínimo posible para el análisis), por lo cual, en base a lo anteriormente mencionado, se puede afirmar que el sesgo del modelo entrenado con 40 muestras es significativamente menor al del modelo entrenado con solamente 2 muestras, motivo por el cual, eso significa que debido principalmente al hecho de que los MSE promedio tanto en el subconjunto de entrenamiento como de validación para el modelo entrenado con 40 muestras son significativamente menores a los de los modelos entrenados con 2 muestras, se puede afirmar que dado que el modelo entrenado con el mayor número de muestras (modelo base), posee errores MSE promedio significativamente menores, eso implica que el grado de sesgo del mismo es bajo, dado que las diferencias entre los datos reales y las predicciones derivadas de dicho modelo también serán mucho menores, por lo que las predicciones derivadas del modelo base estarán mucho más próximas a los datos reales que se desean predecir, sin embargo, por otro lado, en cuanto a la varianza del modelo entrenado con 40 muestras, es posible afirmar que dado el hecho de que el sesgo de dicho modelo es bajo, entonces ese mismo modelo posee un grado de varianza alto, lo cual implica que dentro del modelo en cuestión, la variable de respuesta (grados en valks) será altamente sensible en su mayoría a cambios o variaciones en los datos de la variable predictora (grados en celsius), lo cual no necesariamente implicará que las predicciones derivadas del modelo sean incorrectas, sino que significará que el modelo será capaz de realizar predicciones que se encuentren dentro de un espacio significativamente más grande de posibles valores que puedan tomar los datos predichos por el modelo, lo cual a su vez podrá aumentar o disminuir notoriamente el grado total de error que tengan las predicciones del modelo, por lo cual será importante calcular otras métricas de error para evaluar el rendimiento del modelo además del cálculo del MSE, como pueden ser el coeficiente de determinación $R^{2}$ para saber qué tanto porcentaje de la variabilidad total de los datos que se desean predecir es capaz de explicar el modelo en cuestión, por lo que en caso de que dicho coeficiente adopte un valor menor a 0.7, podrá considerarse que el modelo no consigue explicar suficiente proporción de variaiblidad de los datos originales, por lo las predicciones derivadas del mismo no serán confiables para tomarlas en cuenta en un proceso de toma de decisiones cuyas implicaciones puedan ser bastante desfavorables para quienes tomen las decisiones.\n",
    "\n",
    "Adicionalmente, otro aspecto que es muy importante mencionar radica en que con base en el gráfico previo, se evidencia que existe una relación entre el cambio en el tipo de ajuste que experimentan los modelos conforme aumenta el tamaño de muestra con el que son entrenados, esto debido a que en el gráfico se consigue apreciar que cuando el tamaño de muestra para entrenamiento es mayormente pequeño, concretamente igual a 2, el nivel de error MSE promedio resulta ser mayormente alto, mientras que también se aprecia que conforme se incrementa gradualmente el tamaño muestral para entrenamiento, el nivel de los errores MSE promedio tiende a disminuir, esto indica principalmente que los modelos entrenados experimentan cambios en cuanto a su grado de varianza y de sesgo, esto principalmente en el sentido de que cuando el tamaño de las muestras de entrenamiento comienza a aumentar, el grado de sesgo de los modelos comienza al mismo tiempo a disminuir, dado que por ejemplo, cuando el tamaño de muestra para entrenamiento aumenta de 2 a 5, se aprecia que los errores MSE promedio disminuyen, por lo que el sesgo para los modelos entrenados con 5 muestras resulta tener un valor inferior a 1000, en comparación con el sesgo de los modelos entrenados con 2 muestras que era superior a 1000, además, el grado de varianza para los modelos entrenados con 5 muestras resulta ser mayor al de aquellos entrenados con solo 2 muestras lo que implica que los modelos entrenados con 5 muestras son más sensibles a cambios en los datos de entrada que se les proporcionen en comparación con los de 2 muestras, cuyo grado de sensibilidad a cambios en los datos de entrada es menor, además de que al volver a incrementar el tamaño de muestras de entrenamiento, esta vez a 10 muestras, se observa que en ese caso los errores MSE promedio son ligeramente menores que para 5 muestras, por lo cual, el sesgo de los modelos entrenados con 10 muestras resulta ser también inferior a 1000, aunque también dicho valor de sesgo resulta ser ligeramente menor al sesgo de los modelos entrenados con 5 muestras, por lo que los modelos entrenados con 10 muestras ofrecen predicciones ligeramente más precisas que los entrenados con 5 muestras, además la varianza de los modelos entrenados con 10 muestras resulta ser ligeramente mayor a la de los modelos que se entrenan con 5 muestras, provocando que los modelos entrenados con tamaño muestral de 10 sean ligeramente más sensibles a cambios en los datos de entrada que los entrenados con 5 muestras, además por otro lado, al entrenar modelos con 15 muestras, se observa que los errores MSE promedio nuevamente experimentan una ligera disminución en comparación con el caso previo de 10 muestras, lo cual implica que el sesgo de los modelos entrenados con 15 muestras resulta ser inferior a 1000, aunque dicho sesgo a su vez también es inferior al de los modelos entrenados con 10 muestras, lo cual implica que los modelos entrenados con 15 muestras arrojan predicciones ligeramente más precisas (menos alejadas de los datos reales) que los modelos entrenados con 10 muestras, además la varianza de los modelos entrenados con 15 muestras resulta ser ligeramente mayor a los entrenados con 10 muestras, por lo que los modelos entrenados con 15 muestras son ligeramente más sensibles a cambios en los datos de entrada porporcionados, por lo que las predicciones de los mismos tienen un mayor margen de variación que en el caso de 10 muestras, por otro lado, para los modelos entrenados con 20 muestras, dado que los errores MSE promedio vuelven a disminuir ligeramente, el sesgo para los modelos entrenados con 20 muestras resulta tener un valor también inferior a 1000, mismo que también es ligeramente menor al sesgo de los modelos entrenados con 15 muestras, por lo cual, los modelos entrenados con 20 muestras tienden a devolver predicciones ligeramente más precisas que los modelos entrenados con 15 muestras, además de que también la varianza de los modelos entrenados con 20 muestras es ligeramente mayor a la de los modelos entrenados con 15 muestras, lo cual conduce a que con 20 muestras de entrenamiento, las predicciones de los modelos poseen una sensbilidad ligeramente más alta a los datos de entrada, lo cual lleva a que sus predicciones puedan tener un margen de variación ligeramente mayor a las de los modelos entrenados con 15 muestras, mientras que al mismo tiempo, para los modelos entrenados con 25 muestras, los errores MSE promedio nuevamente disminuyen en una ligera proporción que con 20 muestras, por lo que el sesgo de los modelos entrenados con 25 muestras resulta tener un valor considerablemente inferior a 1000, aunque dicho sesgo también es ligeramente inferior al sesgo de los modelos entrenados con 20 muestras, por lo cual, los modelos entrenados con 25 muestras ofrecen predicciones ligeramente más precisas que los entrenados con 20, mientras que del mismo modo, la varianza de los modelos entrenados con 25 muestras resulta ser ligeramente mayor a la de los entrenados con 20, indicando que al entrenar modelos con 25 muestras, las predicciones de dichos modelos podrán presentar una mayor variación que las de aquellos entrenados con 20 muestras, mientras que de forma similar, para modelos que se entrenen con 30 muestras, los MSE promedio nuevamente decaen, provocando que el sesgo para dichos modelos entrenados con 30 muestras tenga un valor significativamente menor a 1000 tal como en el caso previo de 25 muestras, sin embargo dicho sesgo es menor que el de los modelos entrenados con 25 muestras, provocando que las predicciones de los modelos entrenados con 30 muestras sean ligeramente más precisas que las de aquellos modelos que se entrenan con 25 muestras, además de que la varianza para los modelos entrenados con 30 muestras resulta ser ligeramente mayor a las de los modelos entrenados con 25 muestras, lo cual implica que las predicciones de los modelos entrenados con 30 muestras son más sensibles a variaciones en los datos de entrada, permitiendo que las predicciones de éstos modelos tengan un mayor margen de variación que las de los modelos entrenados con 25 muestras, lo cual a su vez permite que las predicciones de los modelos entrenados con 30 muestras tengan un margen de variación aún mayor que las de los modelos entrenados con 25 muestras, lo que ocasiona que las predicciones de modelos entrenados con 30 muestras ya se vayan acercando de forma notoria a los datos reales, mientras que por otro lado, para los modelos entrenados con 35 muestras, el sesgo resulta tener un valor considerablemente más cercano a 0 que a 1000, lo cual implica que las predicciones de dichos modelos, resultan ser más próximas a los datos reales (más precisas) que aquellas provenientes de modelos entrenados con 30 muestras, incrementando por tanto la confiabilidad de las predicciones de modelos entrenados con 35 muestras, además, la varianza para modelos que se entrenen con 35 muestras resulta ser ligeramente mayor a la de los modelos entrenados con 30 muestras, lo cual significa que las predicciones de los modelos entrenados con 35 muestras tienen una sensibilidad ligeramente mayor a los cambios en los datos de entrada que las de los modelos entrenados con 30 muestras, lo cual implica que las predicciones derivadas de modelos entrenados con 35 muestras poseen un margen de variación aún mayor que las de los modelos entrenados con 30 muestras, por lo que las predicciones que se obtengan de modelos entrenados con 35 muestras tienen un margen de variación más amplio, lo cual propicia que aumente la probabilidad de encontrar valores que se ajusten de la mejor forma posible a los datos reales, dentro de ese espacio más amplio de posibles valores, por lo que en resumen, al aumentar el número de muestras de entrenamiento, tanto el sesgo como la varianza de las predicciones de los modelos entrenados disminuirán, conduciendo a obtener predicciones cada vez más cercanas a los datos reales. \n",
    "\n",
    "Por lo cual, considerando lo anterior, se puede afirmar que en un principio cuando el tamaño de muestra para entrenamiento es igual a 2 (tamaño de muestra mínimo posible), el tipo de ajuste que experimenta el modelo es underfitting (subajuste), dado que el modelo al ser entrenado con muy pocas muestras, no pueden aprender algún patrón, o tendencia en particular detrás de los datos, ya que la cantidad altamente reducida de datos para aprender o entrenar modelos propicia que aún no exista algún patrón o tendencia específica subyacente a dichos datos, lo cual entorpece el proceso de aprendizaje o entrenamiento del modelo en cuestión, ya que no logrará aprender patrones o tendencias ocultos en los datos en base a los que es entrenado, resultando de esa manera en un proceso de entrenamiento deficiente y como consecuencia también en un rendimiento deficiente al predecir la salida en valks para datos en celsius que el modelo aún no conozca, por lo que el modelo no será capaz de predecir más allá de los datos que ha aprendido de su entrenamiento, motivo por el cual, en pocas palabras, a medida que el tamaño de muestra para entrenar los modelos aumenta, el tipo de ajuste de dichos modelos cambia de tal manera que en un principio al tener tamaño de muestra pequeño para entrenar, los modelos tienen underfitt, mientras que posteriormente al ir aumentando de forma gradual el tamaño muestral para el entrenamiento, el underfitt pasa a ser un ajuste de tipo fitt, puesto que al aumentar el tamaño de muestra para entrenar, se va definiendo gradualmente algún patrón o tendencia subyacente a ellos que los modelos puedan aprender durante su etapa de entrenamiento, por lo que las predicciones derivadas de los mismos también experimentan una mejoría gradual, no obstante, es necesario asegurarse de no incrementar de forma excesiva la cantidad de muestras para entrenar el modelo, ya que esto puede ocasionar que el modelo resultante para representar los datos originales se pueda tornar demasiado complejo (por ejemplo tener que agregar una cantidad de variables predictoras mucho mayor al modelo inicial), lo cual puede conducir a tener un overfitt, dado que el modelo al ser altamente complejo, tenderá a \"memorizar\" la salida de los datos de entrenamiento que se le proporcionen, dando como resultado un rendimiento y precisión aparentemente muy favorables al predecir los datos de entrenamiento, pero cuando el modelo se encuentre con datos que no conozca en absoluto, la precisión de sus predicciones decaerá de forma muy significativa, por lo cual lo adecuado es mantener el tamaño de muestra para el entrenamiento en valores que no sean muy bajos pero tampoco muy altos. \n",
    "\n",
    "**Nota 1:** el MSE es la representación del grado de sesgo de los modelos en cuestión.\n",
    "\n",
    "**Nota 2:** Dado que el sesgo y la varianza se contraponen entre sí, a mayor sesgo menor varianza y viceversa."
   ]
  },
  {
   "cell_type": "markdown",
   "id": "395bf06b",
   "metadata": {},
   "source": [
    "## Tamaño de muestra más adecuado para el entrenamiento"
   ]
  },
  {
   "cell_type": "markdown",
   "id": "d485d2bc",
   "metadata": {},
   "source": [
    "En términos generales, en base al gráfico previamente realizado y al análisis para los diferentes tamaños de muestra para entrenamiento de los modelos, se puede observar que en efecto, al aumentar el tamaño muestral para el proceso de entrenamiento de los modelos, éstos mismos se ajustan gradualmente mejor a los datos que intentan predecir, esto se debe principalmente al hecho de que conforme los datos para entrenar los modelos son mayores en cantidad, es posible definir de una mejor manera el patrón o tendencia particular que seguirán dichos datos, por lo cual, en el caso de tomar en cuenta los tamaños de muestra comprendidos entre 35 y 40 sin tomar en cuenta a éste último tamaño, es posible notar en el gráfico anterior que para dichos tamaños muestrales, el MSE promedio tanto en el conjunto de entrenamiento como en el de validación, resulta tener un valor mayormente reducido y próximo a 0, en comparación con el resto de los tamaños de muestra para entrenamiento graficados, lo cual indica que cuando el modelo se entrena con una cantidad de muestras entre 35 y 40, es decir con un tamaño muestral muy cercano a  la máxima cantidad posible de muestras, los errores promedio de las predicciones contra las observaciones reales que se intentan predecir, adoptan los mínimos valores posibles, motivo por el cual, al entrenar el modelo con un tamaño muestral comprendido entre 35 y 40 muestras, prácticamente se logra definir lo mayor posible un determinado patrón o tendencia detrás de los datos que se desean predecir, por lo cual, al usar este tamaño de muestra, también permitirá que los modelos entrenados en base al mismo, puedan aprender con un grado mayor de facilidad dicho patrón o tendencia que subyace a los datos analizados, lo cual conducirá a que como consecuencia de lo anterior, el modelo entrenado tenga una capacidad mayor o más amplia para a su vez generalizar dicho patrón o tendencia aprendido a nuevas instancias que aún no conozca, es decir, que al momento de emplear el patrón o tendencia que haya aprendido de los datos de entrenamiento para predecir el resultado de la variable de respuesta (grados en valks) a partir de los datos de la variable predictora (grados en celsius), sobre un conjunto de datos que el modelo todavía no conozca, las predicciones resultantes de dicho modelo sobre dichos datos desconocidos para el mismo, sean mayormente precisas, en el sentido de que las predicciones derivadas del modelo tengan el mayor acercamiento posible a los valores de los datos verdaderos, motivo por el cual, se puede concluir que el tamaño de muestra más adecuado para el entrenamiento del modelo predictivo es un tamaño muestral entre 35 y 40, por lo cual, se escogerá un valor medio en ese rango, en concreto 38 muestras, como una cantidad mayormente adecuada de muestras para el entrenamiento del modelo.\n",
    "\n",
    "**Nota:** No se eligió la cantidad máxima posible de muestras de entrenamiento (40 muestras) como la más adecuada, puesto que ya existe un modelo base entrenado con dicha cantidad de muestras, por lo que en caso de considerar a 40 como la cantidad más adecuada de muestras para entrenamiento, se generaría otro modelo exactamente con el mismo comprtamiento predictivo que el modelo base generado inicialmente, por lo cual, se optó por elegir una cantidad de muestras no igual a 40, pero sí bastante cercana a 40 como lo es 38 muestras, con la finalidad principal de evitar repetir el mismo modelo base creado en un inicio."
   ]
  },
  {
   "cell_type": "markdown",
   "id": "c8f9af9d",
   "metadata": {},
   "source": [
    "## Entrenamiento de nuevo modelo con la cantidad más adecuada de muestras"
   ]
  },
  {
   "cell_type": "code",
   "execution_count": 46,
   "id": "df9ef64d",
   "metadata": {},
   "outputs": [],
   "source": [
    "# A continuación se procederá a crear y configurar otro modelo pero esta vez dicho modelo se entrenará con la\n",
    "# cantidad de muestras más adecuada determinada anteriormente (38 muestras)\n",
    "\n",
    "# Para el nuevo modelo a entrenar con 38 muestras, se pasará como argumento de entrada que dicho modelo tenga\n",
    "# una tasa de aprendizaje inicial (eta0) de 1e-04, además de un máximo de 750,000 iteraciones para su entrenamiento\n",
    "\n",
    "regresion_38 = SGDRegressor(eta0 = 1e-04, max_iter = 750000)"
   ]
  },
  {
   "cell_type": "code",
   "execution_count": 47,
   "id": "b5b45115",
   "metadata": {},
   "outputs": [
    {
     "data": {
      "text/plain": [
       "Celsius   Valks    \n",
       "-18.8100   106.4300    1\n",
       " 61.4280  -134.0700    1\n",
       " 38.5260  -65.5800     1\n",
       " 41.6040  -79.7750     1\n",
       " 45.5100  -87.1070     1\n",
       " 45.5740  -81.5570     1\n",
       " 55.7200  -121.0900    1\n",
       " 56.5520  -129.8700    1\n",
       " 59.2210  -117.9900    1\n",
       " 69.0900  -140.6400    1\n",
       "-16.4290   103.4600    1\n",
       " 70.5790  -156.6000    1\n",
       " 71.3380  -165.4200    1\n",
       " 71.5740  -150.5800    1\n",
       " 72.9260  -178.1900    1\n",
       " 73.3990  -156.3200    1\n",
       " 73.4010  -169.7600    1\n",
       " 75.7510  -182.8200    1\n",
       " 36.7820  -62.0400     1\n",
       " 28.9760  -40.9340     1\n",
       " 28.5380  -30.9980     1\n",
       " 27.3290  -27.0320     1\n",
       "-12.4150   84.8820     1\n",
       "-10.2870   79.1430     1\n",
       "-7.3013    73.2690     1\n",
       "-7.0094    69.6320     1\n",
       "-5.8114    66.3700     1\n",
       "-4.2387    61.9730     1\n",
       "-3.7388    60.6140     1\n",
       " 2.3812    42.1590     1\n",
       " 5.1084    35.1830     1\n",
       " 7.6025    25.0800     1\n",
       " 7.8498    24.6800     1\n",
       " 14.0390   8.7644      1\n",
       " 18.0450  -7.4412      1\n",
       " 19.2230  -3.1829      1\n",
       " 24.5590  -23.5080     1\n",
       " 76.4890  -183.4600    1\n",
       "dtype: int64"
      ]
     },
     "execution_count": 47,
     "metadata": {},
     "output_type": "execute_result"
    }
   ],
   "source": [
    "# Crear subset de entrenamiento de 38 muestras a partir del subconjunto de entrenamiento original de 40 muestras, utilizando\n",
    "# la función sample de los objetos de tipo dataframe para obtener una muestra aleatoria de 38 registros (filas) para el \n",
    "# entrenamiento del nuevo modelo\n",
    "\n",
    "# El parámetro de entrada n = 38 indica a la función sample que se tomen aleatoriamente \n",
    "# 38 elementos del subconjunto de datos de entrenamiento original de 40 muestras, mientras \n",
    "# que el parámetro replace = False señala a la función sample() que el muestreo de elementos\n",
    "# se realice sin reemplazo (sin elementos repetidos), mientras que el parámetro axis = 0 indica a\n",
    "# la función sample() que realice un muestreo de los registros del dataframe de entrenamiento,\n",
    "# por lo cual, el resultado será un dataframe de 38 registros aleatorios y no repetidos\n",
    "\n",
    "model38_train = datos_train.sample(n = 38, replace = False, axis = 0)\n",
    "\n",
    "# Verificar que ningún registro de la muestra de tamaño 38 esté repetido (la frecuencia absoluta de cada registro debe ser 1)\n",
    "\n",
    "model38_train.value_counts()"
   ]
  },
  {
   "cell_type": "code",
   "execution_count": 48,
   "id": "8fa63af7",
   "metadata": {},
   "outputs": [
    {
     "data": {
      "text/plain": [
       "SGDRegressor(eta0=0.0001, max_iter=750000)"
      ]
     },
     "execution_count": 48,
     "metadata": {},
     "output_type": "execute_result"
    }
   ],
   "source": [
    "# Entrenar el modelo nuevo con la muestra aleatoria de 38 registros obtenida previamente\n",
    "\n",
    "# Los datos en celsius del subconjunto de entrenamiento se convierten a un array de numpy y se\n",
    "# redimensionan para que tengan 2 dimensiones en vez de 1 y así sean aceptados por el método\n",
    "# fit()\n",
    "\n",
    "regresion_38.fit(model38_train[\"Celsius\"].to_numpy().reshape(-1, 1), model38_train[\"Valks\"])"
   ]
  },
  {
   "cell_type": "markdown",
   "id": "0f7a68c2",
   "metadata": {},
   "source": [
    "### MSE del nuevo modelo sobre el subconjunto de entrenamiento, validación y prueba"
   ]
  },
  {
   "cell_type": "code",
   "execution_count": 49,
   "id": "2ef8943d",
   "metadata": {},
   "outputs": [],
   "source": [
    "# Generar las predicciones de los valks del subconjunto de entrenamiento de 38 muestras utilzando el \n",
    "# nuevo modelo entrenado\n",
    "\n",
    "# Nuevamente, los datos de la variable predictora en la columna Celsius se convierten a un arreglo de\n",
    "# numpy y luego se reforma dicho arreglo para que sea de 2 dimensiones, lo cual es requerido por el \n",
    "# método predict()\n",
    "\n",
    "predicted_model38_train = regresion_38.predict(model38_train[\"Celsius\"].to_numpy().reshape(-1, 1))\n",
    "\n",
    "# Calcular el error cuadrático medio MSE del modelo en el subconjunto de entrenamiento de 38 muestras\n",
    "\n",
    "MSE_model38_train = mean_squared_error(model38_train[\"Valks\"], predicted_model38_train)\n",
    "\n",
    "# Calcular las predicciones para los Valks del subconjunto de validación con el modelo entrenado con 38 muestras\n",
    "\n",
    "predicted_model38_validation = regresion_38.predict(validation[\"Celsius\"].to_numpy().reshape(-1, 1))\n",
    "\n",
    "# Calcular MSE del modelo en el subconjunto de validación \n",
    "\n",
    "MSE_model38_validation = mean_squared_error(validation[\"Valks\"], predicted_model38_validation)\n",
    "\n",
    "# Calcular predicciones para los valks del subconjunto de prueba (test) con el modelo entrenad con 38 muestras\n",
    "\n",
    "predicted_model38_test = regresion_38.predict(test_definitivo[\"Celsius\"].to_numpy().reshape(-1, 1))\n",
    "\n",
    "# Calcular MSE del modelo en el subconjunto de prueba o test, entrenado con 38 muestras\n",
    "\n",
    "MSE_model38_test = mean_squared_error(test_definitivo[\"Valks\"], predicted_model38_test)\n"
   ]
  },
  {
   "cell_type": "code",
   "execution_count": 50,
   "id": "28839239",
   "metadata": {},
   "outputs": [
    {
     "name": "stdout",
     "output_type": "stream",
     "text": [
      "MSE en el subconjunto de entrenamiento: 1249.168681522965\n"
     ]
    }
   ],
   "source": [
    "# Desplegar en pantalla el valor del MSE en el subconjunto de entrenamiento del modelo entrenado con 38 muestras\n",
    "\n",
    "print(f'MSE en el subconjunto de entrenamiento: {MSE_model38_train}')"
   ]
  },
  {
   "cell_type": "code",
   "execution_count": 51,
   "id": "2085c4d4",
   "metadata": {},
   "outputs": [
    {
     "name": "stdout",
     "output_type": "stream",
     "text": [
      "MSE en el subconjunto de validación: 1137.4340287041045\n"
     ]
    }
   ],
   "source": [
    "# Desplegar en pantalla el valor del MSE en el subconjunto de validación del modelo entrenado con 38 muestras\n",
    "\n",
    "print(f'MSE en el subconjunto de validación: {MSE_model38_validation}')"
   ]
  },
  {
   "cell_type": "code",
   "execution_count": 52,
   "id": "9a3eadc8",
   "metadata": {},
   "outputs": [
    {
     "name": "stdout",
     "output_type": "stream",
     "text": [
      "MSE en el subconjunto de prueba/testing: 886.9491582364981\n"
     ]
    }
   ],
   "source": [
    "# Desplegar en pantalla el valor del MSE en el subconjunto de testing o prueba del modelo entrenado con 38 muestras\n",
    "\n",
    "print(f'MSE en el subconjunto de prueba/testing: {MSE_model38_test}')"
   ]
  },
  {
   "cell_type": "markdown",
   "id": "710cc5aa",
   "metadata": {},
   "source": [
    "## Comparación de errores del modelo entrenado con 38 muestras y de los errores para la línea base"
   ]
  },
  {
   "cell_type": "markdown",
   "id": "39b6c2c7",
   "metadata": {},
   "source": [
    "### Errores para la línea de base"
   ]
  },
  {
   "cell_type": "code",
   "execution_count": 53,
   "id": "15a0b02c",
   "metadata": {},
   "outputs": [
    {
     "name": "stdout",
     "output_type": "stream",
     "text": [
      "MSE para subconjunto de entrenamiento: 67.38446446496002\n",
      "MSE para subconjunto de validación: 83.03008756786551\n",
      "MSE para subconjunto de prueba: 84.886937960482\n"
     ]
    }
   ],
   "source": [
    "# Mostrar el valor del MSE para el subset de datos de entrenamiento\n",
    "\n",
    "print(f'MSE para subconjunto de entrenamiento: {MSE_train}')\n",
    "\n",
    "# Mostrar el valor del MSE para el subset de datos de validación\n",
    "\n",
    "print(f'MSE para subconjunto de validación: {MSE_validation}')\n",
    "\n",
    "# Mostrar el valor del MSE para el subset de datos de prueba\n",
    "\n",
    "print(f'MSE para subconjunto de prueba: {MSE_test}')"
   ]
  },
  {
   "cell_type": "markdown",
   "id": "56b69b1e",
   "metadata": {},
   "source": [
    "### Errores del modelo entrenado con 38 muestras"
   ]
  },
  {
   "cell_type": "code",
   "execution_count": 54,
   "id": "7f4ea7ee",
   "metadata": {},
   "outputs": [
    {
     "name": "stdout",
     "output_type": "stream",
     "text": [
      "MSE en el subconjunto de entrenamiento: 1249.168681522965\n",
      "MSE en el subconjunto de validación: 1137.4340287041045\n",
      "MSE en el subconjunto de prueba/testing: 886.9491582364981\n"
     ]
    }
   ],
   "source": [
    "# Desplegar en pantalla el valor del MSE en el subconjunto de entrenamiento del modelo entrenado con 38 muestras\n",
    "\n",
    "print(f'MSE en el subconjunto de entrenamiento: {MSE_model38_train}')\n",
    "\n",
    "# Desplegar en pantalla el valor del MSE en el subconjunto de validación del modelo entrenado con 38 muestras\n",
    "\n",
    "print(f'MSE en el subconjunto de validación: {MSE_model38_validation}')\n",
    "\n",
    "# Desplegar en pantalla el valor del MSE en el subconjunto de testing o prueba del modelo entrenado con 38 muestras\n",
    "\n",
    "print(f'MSE en el subconjunto de prueba/testing: {MSE_model38_test}')"
   ]
  },
  {
   "cell_type": "markdown",
   "id": "a89d4462",
   "metadata": {},
   "source": [
    "En base a los errores tanto del modelo base o línea de base y los errores del modelo entrenado con un total de 38 muestras, es posible observar que en relación a los errores en el subconjunto de entrenamiento, el error en el subconjunto de entrenamiento del modelo entrenado con 38 muestras resulta ser mucho mayor que el error en el subconjunto de entrenamiento de la línea base (modelo base), lo cual señala que el modelo entrenado con 38 muestras, posee un grado de sesgo significativamente más alto que el modelo de la línea base, lo cual indica que las predicciones derivadas del modelo entrenado con 38 muestras, tienden a desviarse o alejarse en mucha mayor proporción de los datos de entrenamiento reales de dicho modelo, por otro lado, el modelo de la línea base entrenado con las 40 muestras, posee el MSE más bajo en su respectivo subconjunto de entrenamiento, por lo cual, éste modelo tiene el mayor grado de precisión entre ambos modelos mencionados, junto con el menor sesgo entre ambos modelos, por lo que las predicciones del modelo de la línea base estarán más próximas a los datos reales de su subconjunto de entrenamiento correspondiente.\n",
    "\n",
    "Por otra parte, en cuanto al error MSE en el subconjunto de validación general creado inicialmente, el modelo de la línea base posee un MSE de 83.03, mientras que para el modelo entrenado con 38 muestras, dicho MSE de validación es igual a 1137.43, por lo cual, en este caso, el modelo entrenado con 38 muestras tiene el MSE mayor de ambos en el conjunto de validación general, lo cual significa que dicho modelo no consiguió ajustar sus hiperparámetros hasta el punto en el que tuvieran todos el mejor valor posible, lo cual se refleja en el hecho de que dicho modelo tenga un valor muy alto de MSE en el subconjunto general para la validación de los modelos, no obstante, por otro lado, aquel modelo que tiene el MSE menor en el subconjunto de validación es el modelo de la línea base, lo cual indica que dicho modelo, sí consiguió ajustar de una mucho mejor manera, los valores de sus hiperparámetros con tal de ajustarse lo mejor posible a los datos reales, por lo cual, las predicciones derivadas del modelo de la línea base tendrán el mayor grado de precisión posible entre ambos modelos mencionados, al tener coeficientes que representan de una mejor forma la variabilidad de los datos originales, mientras que por el contrario, el modelo entrenado con 38 muestras, posee el ajuste más deficiente de sus hiperparámetros, lo cual conduce a que dicho modelo al momento de calcular las predicciones de los datos originales de entrada en grados celsius, los datos de salida en grados valks tengan un grado de precisión mucho menor que los datos de salida en Valks predichos por el modelo de la línea base, por lo que nuevamente, el modelo de la línea base resulta arrojar predicciones de una calidad mucho mayor en cuanto a precisión y nivel de sesgo reducido en comparación con el modelo entrenado con 38 muestras. \n",
    "\n",
    "Por último, respecto a los errores MSE en el subconjunto de prueba general, se logra apreciar que el error MSE para el modelo de la línea base es igual a 84.88, mientras que al mismo tiempo, el error MSE en el subconjunto de prueba para el modelo entrenado con 38 muestras resulta ser igual a 886.94, por lo cual se evidencia que el modelo entrenado con 38 muestras nuevamente es el que tiene el mayor error MSE, lo cual, en este contexto en particular, significa que dicho modelo presenta el nivel de rendimiento más bajo de los dos modelos mencionados al momento de ponerlo a prueba para predecir los grados en valks a partir de los grados celsius, lo cual implica que ese mismo modelo, nuevamente posee el menor grado de precisión en cuanto a las predicciones que calcula, por lo cual, las predicciones derivadas del mismo no representan de la mejor forma posible a los datos reales en cuestión, lo cual indica que el modelo entrenado con 38 muestras es de una calidad mucho menor en cuanto a las predicciones que calcula, mientras que por el contrario, en el caso del modelo de la línea base, éste mismo es el modelo que a su vez posee el menor MSE en el subconjunto de datos de prueba, lo cual indica que dicho modelo es el que aporta predicciones más precisas entre ambos modelos descritos, por lo cual, el modelo de la línea base es de una calidad mucho más alta que el modelo entrenado con 38 muestras, dado que el primero (modelo de la línea base) logra calcular predicciones que se aproximan en mayor proporción a los datos reales que se desean predecir, mientras que el modelo entrenado con 38 muestras aporta predicciones que al contrario, se alejan de los datos verdaderos a predecir, motivo por el cual, bajo este criterio, es mejor el modelo de la línea base para predecir las equivalencias en Valks de los datos en grados celsius reales de los cuales se desea saber los valores de sus equivalencias en valks de una forma altamente precisa y a la vez también altamente confiable. "
   ]
  },
  {
   "cell_type": "markdown",
   "id": "ddb46438",
   "metadata": {},
   "source": [
    "## Configuración que funcionó mejor y por qué"
   ]
  },
  {
   "cell_type": "markdown",
   "id": "b04b7276",
   "metadata": {},
   "source": [
    "Finalmente, a manera de conclusión final de todo el análisis realizado con anterioridad, es posible concluir que de los 2 mejores modelos, mismos que fueron tanto el modelo de la línea base entrenado inicialmente junto con el modelo entrenado con 38 muestras, el modelo de la línea base resultó ser el aquel que tuvo la mejor configuración de los 2, la cual consistió en que se entrenara al modelo de regresión lineal con gradiente descendente estocástico con un parámetro eta0 (tasa de aprendizaje inicial del modelo) igual a 1e-04 (1 diezmilésima), además de una cantidad máxima de iteraciones igual a 1e+06 (1 millón) y el parámetro adicional random_state igual a la semilla definida inicialmente con los dígitos 8326 (últimos dígitos de mi matrícula de alumno), por lo cual, al momento de aplicar ésta configuración durante el entrenamiento del modelo de la línea base, se obtuvo un modelo con un mejor grado de rendimiento que el segundo modelo que fue entrenado con 38 muestras además de una configuración con parámetros de eta0 = 1e-04 y número máximo de iteraciones igual a 750 mil, por lo cual, la primera configuración mencionada que corresponde al modelo de la línea base, fue aquella que funcionó mejor, principalmente debido a que a pesar de que ambos modelos tengan el mismo valor de la tasa de aprendizaje inicial (1e-04), su configuración difiere de forma mayormente significativa en cuanto al valor del parámetro max_iter (máximo número de iteraciones para entrenar el modelo) que tiene cada uno de los 2 modelos mencionados, ya que el modelo de la línea base tiene un máximo de iteraciones de 1 millón, mientras que el modelo entrenado con 38 muestras tiene un máximo de iteraciones igual a 750,000, por lo cual se evidencia que de 1 modelo al otro, existe una diferencia altamente significativa en cuanto al máximo de iteraciones con el que fue entrenado dicho modelo, por lo cual, dado que el modelo de la línea base tiene el máximo mayor de iteraciones, éste mismo fue capaz de recibir un mejor entrenamiento y como consecuencia, eso resultó en predicciones más precisas, sin embargo, el segundo modelo entrenado con 38 muestras y con un máximo de 750 mil iteraciones, no logró arrojar predicciones con el mismo grado de precisión que el modelo de la línea base, motivo por el cual, eso es un indicativo de que a mayor número máximo de iteraciones, aumenta la probabilidad de que el modelo entrenado lleve a cabo un mejor proceso de entrenamiento y en consecuncia sus predicciones sean más precisas y se acerquen más a los datos reales, lo cual tiene sentido, ya que al configurar un modelo con una cantidad máxima de iteraciones más grande, dicho modelo tiene un mayor tiempo definido para aprender los patrones o tendencias subyacentes a los datos que se desean predecir (datos reales), lo cual aunado al hecho de que dicho modelo tiene una tasa de aprendizaje bastante pequeña (aprende a un ritmo mayormente lento), la combinación de esos 2 factores (máximo grande de iteraciones y tasa de aprendizaje muy pequeña) ocasiona que el modelo en cuestión, durante su proceso de entrenamiento que también tendrá mayor duración, adquiera una mayor capacidad de aprender en primera instancia el patrón o tendencia que siguen los datos y posteriormente sea capaz de aplicar dicho aprendizaje para predecir el valor de nuevas instancias o datos que aún no conozca, lo cual es el objetivo ideal de un modelo predictivo, es decir, el ser capaz de generalizar su aprendizaje para predecir de manera acertada datos que nunca antes haya visto, por lo cual, en resumen, la configuración que tuvo el mejor funcionamiento fue aquella cuyo parámetro eta0 es igual a 1e-04 y a su vez, su máxima cantidad de iteraciones es igual a 1e+06 (1 millón), porque de esa manera, el modelo tiene más tiempo (medido en cantidad de iteraciones) para aprender cómo es la naturaleza subyacente de los datos que se desean predecir, durante su etapa de entrenamiento, por lo que como resultado, el modelo de la línea base termina adquiriendo \"conocimientos\" adicionales sobre el patrón de los datos reales, que el segundo modelo entrenado con 38 muestras y 750 mil interaciones, no pudo adquirir debido a la cantidad menor de iteraciones o \"tiempo\" que dicho modelo tuvo para aprender el patrón o tendencia que siguen los datos reales, lo cual explica la diferencia en la calidad de la capacidad predictiva de ambos modelos en el sentido de qué tanta precisión tienen sus predicciones y de su capacidad de generalizar el aprendizaje que adquirieron durante su entrenamiento para predecir la equivalencia en valks para datos en celsius que sean desconocidos para ambos modelos. "
   ]
  }
 ],
 "metadata": {
  "kernelspec": {
   "display_name": "Python 3 (ipykernel)",
   "language": "python",
   "name": "python3"
  },
  "language_info": {
   "codemirror_mode": {
    "name": "ipython",
    "version": 3
   },
   "file_extension": ".py",
   "mimetype": "text/x-python",
   "name": "python",
   "nbconvert_exporter": "python",
   "pygments_lexer": "ipython3",
   "version": "3.9.12"
  }
 },
 "nbformat": 4,
 "nbformat_minor": 5
}
